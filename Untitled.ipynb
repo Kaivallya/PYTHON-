{
 "cells": [
  {
   "cell_type": "code",
   "execution_count": 12,
   "id": "4f7e0f1f",
   "metadata": {},
   "outputs": [
    {
     "name": "stdout",
     "output_type": "stream",
     "text": [
      "1234554321\n",
      "1234**4321\n",
      "123****321\n",
      "12******21\n",
      "1********1\n"
     ]
    }
   ],
   "source": [
    "def print_pattern(rows):\n",
    "    for i in range(rows, 0, -1):\n",
    "        for j in range(1, i + 1):\n",
    "            print(j, end='')\n",
    "        for k in range(1, 2 * (rows - i) + 1):\n",
    "            print('*', end='')\n",
    "        for j in range(i, 0, -1):\n",
    "            print(j, end='')\n",
    "        print()\n",
    "\n",
    "# Reading the number of rows from input\n",
    "#rows = int(input(\"Enter the number of rows: \"))\n",
    "\n",
    "print_pattern(rows)"
   ]
  },
  {
   "cell_type": "code",
   "execution_count": 2,
   "id": "85e4bb95",
   "metadata": {},
   "outputs": [
    {
     "name": "stdout",
     "output_type": "stream",
     "text": [
      "1\n",
      "4\n",
      "2 4 3 5\n",
      "3\n"
     ]
    }
   ],
   "source": [
    "# Function to calculate the maximum total weight Ninja can gain\n",
    "def calculate_max_total_weight(weights):\n",
    "    weights.sort()  # Sort the list of weights in ascending order\n",
    "    max_total_weight = 0\n",
    "\n",
    "    # Iterate over the sorted list in increments of 4\n",
    "    for i in range(1, len(weights), 4):\n",
    "        max_total_weight += weights[i]\n",
    "\n",
    "    return max_total_weight\n",
    "\n",
    "# Read the number of test cases\n",
    "t = int(input())\n",
    "\n",
    "# Process each test case\n",
    "for _ in range(t):\n",
    "    # Read the number of donuts\n",
    "    n = int(input())\n",
    "    \n",
    "    # Read the weights of the donuts\n",
    "    weights = list(map(int, input().split()))\n",
    "\n",
    "    # Calculate the maximum total weight Ninja can gain\n",
    "    max_total_weight = calculate_max_total_weight(weights)\n",
    "\n",
    "    # Print the result\n",
    "    print(max_total_weight)\n"
   ]
  },
  {
   "cell_type": "code",
   "execution_count": 5,
   "id": "4f21bdc6",
   "metadata": {},
   "outputs": [
    {
     "name": "stdout",
     "output_type": "stream",
     "text": [
      "5\n",
      "1 2 3 4 5\n",
      "15\n"
     ]
    }
   ],
   "source": [
    "# Function to find the maximum sum of any contiguous subarray\n",
    "def find_maximum_subarray_sum(arr):\n",
    "    max_sum = current_sum = arr[0]\n",
    "\n",
    "    for i in range(1, len(arr)):\n",
    "        current_sum += arr[i]\n",
    "\n",
    "        if current_sum < 0:\n",
    "            current_sum = 0\n",
    "\n",
    "        if current_sum > max_sum:\n",
    "            max_sum = current_sum\n",
    "\n",
    "    return max_sum\n",
    "\n",
    "# Read the size of the array\n",
    "N = int(input())\n",
    "\n",
    "# Read the array elements\n",
    "arr = list(map(int, input().split()))\n",
    "\n",
    "# Find the maximum subarray sum\n",
    "max_subarray_sum = find_maximum_subarray_sum(arr)\n",
    "\n",
    "# Print the result\n",
    "print(max_subarray_sum)\n"
   ]
  },
  {
   "cell_type": "code",
   "execution_count": 8,
   "id": "b4cf8e9a",
   "metadata": {},
   "outputs": [
    {
     "name": "stdout",
     "output_type": "stream",
     "text": [
      "1\n",
      "111\n",
      "3\n"
     ]
    }
   ],
   "source": [
    "def count_substrings_of_ones(STR):\n",
    "    count = 0\n",
    "    ones_count = 0\n",
    "\n",
    "    for char in STR:\n",
    "        if char == '1':\n",
    "            ones_count += 1\n",
    "        else:\n",
    "            count += ones_count\n",
    "\n",
    "    count += ones_count\n",
    "\n",
    "    return count\n",
    "\n",
    "# Read the number of test cases\n",
    "T = int(input())\n",
    "\n",
    "# Process each test case\n",
    "for _ in range(T):\n",
    "    # Read the binary string\n",
    "    STR = input()\n",
    "\n",
    "    # Calculate the count of substrings containing only ones\n",
    "    result = count_substrings_of_ones(STR)\n",
    "\n",
    "    # Print the result for the current test case\n",
    "    print(result)\n"
   ]
  },
  {
   "cell_type": "code",
   "execution_count": 11,
   "id": "d57ebe92",
   "metadata": {},
   "outputs": [
    {
     "name": "stdout",
     "output_type": "stream",
     "text": [
      "1\n"
     ]
    },
    {
     "ename": "NameError",
     "evalue": "name 'insertionSort' is not defined",
     "output_type": "error",
     "traceback": [
      "\u001b[1;31m---------------------------------------------------------------------------\u001b[0m",
      "\u001b[1;31mNameError\u001b[0m                                 Traceback (most recent call last)",
      "\u001b[1;32m~\\AppData\\Local\\Temp\\ipykernel_14032\\1812938827.py\u001b[0m in \u001b[0;36m<module>\u001b[1;34m\u001b[0m\n\u001b[0;32m      3\u001b[0m \u001b[0mn\u001b[0m \u001b[1;33m=\u001b[0m \u001b[0minput_list\u001b[0m\u001b[1;33m[\u001b[0m\u001b[1;36m0\u001b[0m\u001b[1;33m]\u001b[0m\u001b[1;33m\u001b[0m\u001b[1;33m\u001b[0m\u001b[0m\n\u001b[0;32m      4\u001b[0m \u001b[0minput_arr\u001b[0m \u001b[1;33m=\u001b[0m \u001b[0minput_list\u001b[0m\u001b[1;33m[\u001b[0m\u001b[1;36m1\u001b[0m\u001b[1;33m:\u001b[0m\u001b[1;33m]\u001b[0m\u001b[1;33m\u001b[0m\u001b[1;33m\u001b[0m\u001b[0m\n\u001b[1;32m----> 5\u001b[1;33m \u001b[0minsertionSort\u001b[0m\u001b[1;33m(\u001b[0m\u001b[0minput_arr\u001b[0m\u001b[1;33m)\u001b[0m\u001b[1;33m\u001b[0m\u001b[1;33m\u001b[0m\u001b[0m\n\u001b[0m\u001b[0;32m      6\u001b[0m \u001b[1;33m\u001b[0m\u001b[0m\n\u001b[0;32m      7\u001b[0m \u001b[1;32mdef\u001b[0m \u001b[0mfindMinWeight\u001b[0m\u001b[1;33m(\u001b[0m\u001b[0minput_arr\u001b[0m\u001b[1;33m)\u001b[0m\u001b[1;33m:\u001b[0m\u001b[1;33m\u001b[0m\u001b[1;33m\u001b[0m\u001b[0m\n",
      "\u001b[1;31mNameError\u001b[0m: name 'insertionSort' is not defined"
     ]
    }
   ],
   "source": [
    "input_str = input()\n",
    "input_list = list(map(int, input_str.split()))\n",
    "n = input_list[0]\n",
    "input_arr = input_list[1:]\n",
    "insertionSort(input_arr)\n",
    "\n",
    "def findMinWeight(input_arr):\n",
    "    factorValue = len(input_arr) - 1\n",
    "    w = 0\n",
    "    while(factorValue >= 0):\n",
    "        w = w + (2 ** factorValue) * input_arr[factorValue]\n",
    "        factorValue -= 1\n",
    "    return w\n",
    "\n",
    "print(findMinWeight(input_arr))\n",
    "    \n",
    "def insertionSort(input_arr):\n",
    "    for i in range(1, len(input_arr)):\n",
    "        j = i - 1\n",
    "        k = input_arr[i]\n",
    "        while(j >= 0 and input_arr[j] > k):\n",
    "            input_arr[j + 1] = input_arr[j]\n",
    "            j -= 1\n",
    "        input_arr[j + 1] = k\n"
   ]
  },
  {
   "cell_type": "code",
   "execution_count": 13,
   "id": "ce6274e6",
   "metadata": {},
   "outputs": [
    {
     "name": "stdout",
     "output_type": "stream",
     "text": [
      "1234554321\n",
      "1234**4321\n",
      "123****321\n",
      "12******21\n",
      "1********1\n"
     ]
    }
   ],
   "source": [
    "def print_pattern(rows):\n",
    "    for i in range(rows, 0, -1):\n",
    "        for j in range(1, i + 1):\n",
    "            print(j, end='')\n",
    "        for k in range(1, 2 * (rows - i) + 1):\n",
    "            print('*', end='')\n",
    "        for j in range(i, 0, -1):\n",
    "            print(j, end='')\n",
    "        print()\n",
    "\n",
    "# Reading the number of rows from input\n",
    "#rows = int(input(\"Enter the number of rows: \"))\n",
    "\n",
    "print_pattern(rows)"
   ]
  },
  {
   "cell_type": "code",
   "execution_count": 16,
   "id": "7cd9de4c",
   "metadata": {},
   "outputs": [
    {
     "name": "stdout",
     "output_type": "stream",
     "text": [
      "5\n",
      "123\n",
      "12\n",
      "1\n",
      "\n",
      "\n"
     ]
    }
   ],
   "source": [
    "n = int(input())\n",
    "i=1\n",
    "\n",
    "while i <= n:\n",
    "    j=1\n",
    "    while j <= n-i-1:                                                                                \n",
    "        print(j,end ='')            \n",
    "        j=j+1\n",
    "    print()\n",
    "    i=i+1\n",
    "# n = int(input())\n",
    "# i=1\n",
    "\n",
    "while i <= n:\n",
    "    j=1\n",
    "    while j <= n-i-1:                                                                                \n",
    "        print(j,end ='')            \n",
    "        j=j+1\n",
    "    print()\n",
    "    i=i+1"
   ]
  },
  {
   "cell_type": "code",
   "execution_count": null,
   "id": "672d0f75",
   "metadata": {},
   "outputs": [],
   "source": []
  }
 ],
 "metadata": {
  "kernelspec": {
   "display_name": "Python 3 (ipykernel)",
   "language": "python",
   "name": "python3"
  },
  "language_info": {
   "codemirror_mode": {
    "name": "ipython",
    "version": 3
   },
   "file_extension": ".py",
   "mimetype": "text/x-python",
   "name": "python",
   "nbconvert_exporter": "python",
   "pygments_lexer": "ipython3",
   "version": "3.9.13"
  }
 },
 "nbformat": 4,
 "nbformat_minor": 5
}
