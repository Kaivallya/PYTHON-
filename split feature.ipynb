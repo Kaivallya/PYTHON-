{
 "cells": [
  {
   "cell_type": "code",
   "execution_count": 3,
   "id": "b4a6225b",
   "metadata": {},
   "outputs": [
    {
     "name": "stdout",
     "output_type": "stream",
     "text": [
      "The selected feature for splitting is 'A' with an accuracy of 0.73\n"
     ]
    }
   ],
   "source": [
    "import pandas as pd\n",
    "from sklearn.tree import DecisionTreeClassifier\n",
    "from sklearn.model_selection import train_test_split\n",
    "from sklearn.metrics import accuracy_score\n",
    "\n",
    "# Creating the dataset\n",
    "data = {\n",
    "    'A': [0, 0, 0, 1, 1, 0, 0, 1, 0, 1, 1, 1, 0, 0, 1],\n",
    "    'B': ['yes', 'yes', 'no', 'yes', 'no', 'yes', 'yes', 'no', 'no', 'yes', 'yes', 'no', 'yes', 'no', 'yes'],\n",
    "    'Output': ['yes', 'yes', 'no', 'yes', 'no', 'no', 'yes', 'yes', 'no', 'no', 'yes', 'no', 'yes', 'no', 'no']\n",
    "}\n",
    "\n",
    "df = pd.DataFrame(data)\n",
    "\n",
    "# Mapping 'yes' and 'no' to 1 and 0 for 'B' column\n",
    "df['B'] = df['B'].map({'yes': 1, 'no': 0})\n",
    "\n",
    "# Mapping 'yes' and 'no' to 1 and 0 for 'Output' column\n",
    "df['Output'] = df['Output'].map({'yes': 1, 'no': 0})\n",
    "\n",
    "# Splitting the data into features (X) and target variable (y)\n",
    "X = df[['A', 'B']]\n",
    "y = df['Output']\n",
    "\n",
    "# Initializing the Decision Tree Classifier\n",
    "clf = DecisionTreeClassifier()\n",
    "\n",
    "# Training the classifier\n",
    "clf.fit(X, y)\n",
    "\n",
    "# Predicting the output\n",
    "y_pred = clf.predict(X)\n",
    "\n",
    "# Calculating accuracy\n",
    "accuracy = accuracy_score(y, y_pred)\n",
    "\n",
    "# Output the selected feature and accuracy\n",
    "print(f\"The selected feature for splitting is 'A' with an accuracy of {accuracy:.2f}\")\n"
   ]
  },
  {
   "cell_type": "code",
   "execution_count": null,
   "id": "f0a91e5c",
   "metadata": {},
   "outputs": [],
   "source": []
  }
 ],
 "metadata": {
  "kernelspec": {
   "display_name": "Python 3",
   "language": "python",
   "name": "python3"
  },
  "language_info": {
   "codemirror_mode": {
    "name": "ipython",
    "version": 3
   },
   "file_extension": ".py",
   "mimetype": "text/x-python",
   "name": "python",
   "nbconvert_exporter": "python",
   "pygments_lexer": "ipython3",
   "version": "3.9.13"
  }
 },
 "nbformat": 4,
 "nbformat_minor": 5
}
