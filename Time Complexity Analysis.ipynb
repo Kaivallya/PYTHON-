{
 "cells": [
  {
   "cell_type": "markdown",
   "id": "792f4a9e",
   "metadata": {},
   "source": [
    "## Experimental Analysis"
   ]
  },
  {
   "cell_type": "code",
   "execution_count": 1,
   "id": "358364e0",
   "metadata": {},
   "outputs": [],
   "source": [
    "def merge(a1,a2,a):\n",
    "    i=0\n",
    "    j=0\n",
    "    k=0\n",
    "    while i<len(a1) and j<len(a2):\n",
    "        if(a1[i]<a2[j]):\n",
    "            a[k]=a1[i]\n",
    "            k=k+1\n",
    "            i=i+1\n",
    "        else:\n",
    "            a[k]=a2[j]\n",
    "            k=k+1\n",
    "            j=j+1\n",
    "    while i<len(a1):\n",
    "        a[k]=a1[i]\n",
    "        k=k+1\n",
    "        i=i+1\n",
    "    while j<len(a2):\n",
    "        a2[k]=a2[j]\n",
    "        k=k+1\n",
    "        j=j+1\n",
    "def merge_sort(a):\n",
    "    if len(a)==0 or len(a)==1:\n",
    "        return\n",
    "    mid=len(a)//2\n",
    "    a1=a[0:mid]\n",
    "    a2=a[mid:]\n",
    "    \n",
    "    merge_sort(a1)\n",
    "    merge_sort(a2)\n",
    "    merge(a1,a2,a)"
   ]
  },
  {
   "cell_type": "code",
   "execution_count": 2,
   "id": "5841dc4e",
   "metadata": {},
   "outputs": [],
   "source": [
    "def selection_sort(a):\n",
    "    for i in range(len(a)):\n",
    "        min_idx=i\n",
    "        for j in range(i+1,len(a)):\n",
    "            if a[min_idx]>a[j]:\n",
    "                min_idx=j\n",
    "                a[i],a[min_idx]=a[min_idx],a[i]"
   ]
  },
  {
   "cell_type": "code",
   "execution_count": 3,
   "id": "c71399c6",
   "metadata": {},
   "outputs": [],
   "source": [
    "def create_rev_array(n):\n",
    "    a=[]\n",
    "    for i in range(n,0,-1):\n",
    "        a.append(i)\n",
    "    return a"
   ]
  },
  {
   "cell_type": "code",
   "execution_count": 5,
   "id": "c9698555",
   "metadata": {},
   "outputs": [],
   "source": [
    "import time"
   ]
  },
  {
   "cell_type": "code",
   "execution_count": 19,
   "id": "b0f3bb23",
   "metadata": {},
   "outputs": [],
   "source": [
    "n=1000000"
   ]
  },
  {
   "cell_type": "code",
   "execution_count": 20,
   "id": "e4006741",
   "metadata": {},
   "outputs": [
    {
     "name": "stdout",
     "output_type": "stream",
     "text": [
      "1000000 6.717906951904297\n"
     ]
    }
   ],
   "source": [
    "a=create_rev_array(n)\n",
    "start=time.time()\n",
    "merge_sort(a)\n",
    "end=time.time()\n",
    "print(n,end-start)\n"
   ]
  },
  {
   "cell_type": "code",
   "execution_count": 21,
   "id": "ab8f51b7",
   "metadata": {},
   "outputs": [
    {
     "ename": "KeyboardInterrupt",
     "evalue": "",
     "output_type": "error",
     "traceback": [
      "\u001b[1;31m---------------------------------------------------------------------------\u001b[0m",
      "\u001b[1;31mKeyboardInterrupt\u001b[0m                         Traceback (most recent call last)",
      "\u001b[1;32m~\\AppData\\Local\\Temp\\ipykernel_2568\\3888538447.py\u001b[0m in \u001b[0;36m<module>\u001b[1;34m\u001b[0m\n\u001b[0;32m      1\u001b[0m \u001b[0ma\u001b[0m\u001b[1;33m=\u001b[0m\u001b[0mcreate_rev_array\u001b[0m\u001b[1;33m(\u001b[0m\u001b[0mn\u001b[0m\u001b[1;33m)\u001b[0m\u001b[1;33m\u001b[0m\u001b[1;33m\u001b[0m\u001b[0m\n\u001b[0;32m      2\u001b[0m \u001b[0mstart\u001b[0m\u001b[1;33m=\u001b[0m\u001b[0mtime\u001b[0m\u001b[1;33m.\u001b[0m\u001b[0mtime\u001b[0m\u001b[1;33m(\u001b[0m\u001b[1;33m)\u001b[0m\u001b[1;33m\u001b[0m\u001b[1;33m\u001b[0m\u001b[0m\n\u001b[1;32m----> 3\u001b[1;33m \u001b[0mselection_sort\u001b[0m\u001b[1;33m(\u001b[0m\u001b[0ma\u001b[0m\u001b[1;33m)\u001b[0m\u001b[1;33m\u001b[0m\u001b[1;33m\u001b[0m\u001b[0m\n\u001b[0m\u001b[0;32m      4\u001b[0m \u001b[0mend\u001b[0m\u001b[1;33m=\u001b[0m\u001b[0mtime\u001b[0m\u001b[1;33m.\u001b[0m\u001b[0mtime\u001b[0m\u001b[1;33m(\u001b[0m\u001b[1;33m)\u001b[0m\u001b[1;33m\u001b[0m\u001b[1;33m\u001b[0m\u001b[0m\n\u001b[0;32m      5\u001b[0m \u001b[0mprint\u001b[0m\u001b[1;33m(\u001b[0m\u001b[0mn\u001b[0m\u001b[1;33m,\u001b[0m\u001b[0mend\u001b[0m\u001b[1;33m-\u001b[0m\u001b[0mstart\u001b[0m\u001b[1;33m)\u001b[0m\u001b[1;33m\u001b[0m\u001b[1;33m\u001b[0m\u001b[0m\n",
      "\u001b[1;32m~\\AppData\\Local\\Temp\\ipykernel_2568\\1921239028.py\u001b[0m in \u001b[0;36mselection_sort\u001b[1;34m(a)\u001b[0m\n\u001b[0;32m      5\u001b[0m             \u001b[1;32mif\u001b[0m \u001b[0ma\u001b[0m\u001b[1;33m[\u001b[0m\u001b[0mmin_idx\u001b[0m\u001b[1;33m]\u001b[0m\u001b[1;33m>\u001b[0m\u001b[0ma\u001b[0m\u001b[1;33m[\u001b[0m\u001b[0mj\u001b[0m\u001b[1;33m]\u001b[0m\u001b[1;33m:\u001b[0m\u001b[1;33m\u001b[0m\u001b[1;33m\u001b[0m\u001b[0m\n\u001b[0;32m      6\u001b[0m                 \u001b[0mmin_idx\u001b[0m\u001b[1;33m=\u001b[0m\u001b[0mj\u001b[0m\u001b[1;33m\u001b[0m\u001b[1;33m\u001b[0m\u001b[0m\n\u001b[1;32m----> 7\u001b[1;33m                 \u001b[0ma\u001b[0m\u001b[1;33m[\u001b[0m\u001b[0mi\u001b[0m\u001b[1;33m]\u001b[0m\u001b[1;33m,\u001b[0m\u001b[0ma\u001b[0m\u001b[1;33m[\u001b[0m\u001b[0mmin_idx\u001b[0m\u001b[1;33m]\u001b[0m\u001b[1;33m=\u001b[0m\u001b[0ma\u001b[0m\u001b[1;33m[\u001b[0m\u001b[0mmin_idx\u001b[0m\u001b[1;33m]\u001b[0m\u001b[1;33m,\u001b[0m\u001b[0ma\u001b[0m\u001b[1;33m[\u001b[0m\u001b[0mi\u001b[0m\u001b[1;33m]\u001b[0m\u001b[1;33m\u001b[0m\u001b[1;33m\u001b[0m\u001b[0m\n\u001b[0m",
      "\u001b[1;31mKeyboardInterrupt\u001b[0m: "
     ]
    }
   ],
   "source": [
    "a=create_rev_array(n)\n",
    "start=time.time()\n",
    "selection_sort(a)\n",
    "end=time.time()\n",
    "print(n,end-start)"
   ]
  },
  {
   "cell_type": "markdown",
   "id": "60b09d4d",
   "metadata": {},
   "source": [
    "## Theoretical Analysis"
   ]
  },
  {
   "cell_type": "code",
   "execution_count": 1,
   "id": "119977cc",
   "metadata": {},
   "outputs": [
    {
     "ename": "NameError",
     "evalue": "name 'n' is not defined",
     "output_type": "error",
     "traceback": [
      "\u001b[1;31m---------------------------------------------------------------------------\u001b[0m",
      "\u001b[1;31mNameError\u001b[0m                                 Traceback (most recent call last)",
      "\u001b[1;32m~\\AppData\\Local\\Temp\\ipykernel_16704\\455721369.py\u001b[0m in \u001b[0;36m<module>\u001b[1;34m\u001b[0m\n\u001b[1;32m----> 1\u001b[1;33m \u001b[1;32mfor\u001b[0m \u001b[0mi\u001b[0m \u001b[1;32min\u001b[0m \u001b[0mrange\u001b[0m\u001b[1;33m(\u001b[0m\u001b[0mn\u001b[0m\u001b[1;33m)\u001b[0m\u001b[1;33m:\u001b[0m\u001b[1;33m\u001b[0m\u001b[1;33m\u001b[0m\u001b[0m\n\u001b[0m\u001b[0;32m      2\u001b[0m     \u001b[1;32mfor\u001b[0m \u001b[0mj\u001b[0m \u001b[1;32min\u001b[0m \u001b[0mrange\u001b[0m\u001b[1;33m(\u001b[0m\u001b[0mk\u001b[0m\u001b[1;33m)\u001b[0m\u001b[1;33m:\u001b[0m\u001b[1;33m\u001b[0m\u001b[1;33m\u001b[0m\u001b[0m\n\u001b[0;32m      3\u001b[0m         \u001b[0mprint\u001b[0m\u001b[1;33m(\u001b[0m\u001b[0mi\u001b[0m\u001b[1;33m+\u001b[0m\u001b[0mj\u001b[0m\u001b[1;33m)\u001b[0m\u001b[1;33m\u001b[0m\u001b[1;33m\u001b[0m\u001b[0m\n",
      "\u001b[1;31mNameError\u001b[0m: name 'n' is not defined"
     ]
    }
   ],
   "source": [
    "for i in range(n):\n",
    "    for j in range(k):\n",
    "        print(i+j)"
   ]
  },
  {
   "cell_type": "code",
   "execution_count": 2,
   "id": "3e4f03db",
   "metadata": {},
   "outputs": [],
   "source": [
    "def multiplyRec(m, n):\n",
    "    if n==1:\n",
    "        return m\n",
    "    return m + multiplyRec(m,  n - 1)"
   ]
  },
  {
   "cell_type": "code",
   "execution_count": null,
   "id": "ff13d81a",
   "metadata": {},
   "outputs": [],
   "source": []
  }
 ],
 "metadata": {
  "kernelspec": {
   "display_name": "Python 3 (ipykernel)",
   "language": "python",
   "name": "python3"
  },
  "language_info": {
   "codemirror_mode": {
    "name": "ipython",
    "version": 3
   },
   "file_extension": ".py",
   "mimetype": "text/x-python",
   "name": "python",
   "nbconvert_exporter": "python",
   "pygments_lexer": "ipython3",
   "version": "3.9.13"
  }
 },
 "nbformat": 4,
 "nbformat_minor": 5
}
