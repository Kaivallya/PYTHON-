{
 "cells": [
  {
   "cell_type": "markdown",
   "id": "df3a58f4",
   "metadata": {},
   "source": [
    "### 1.Recurrence Relation for Tower of Hanoi Problem\n",
    "\n",
    "The recurrence relation capturing the optimal execution time of the Towers of Hanoi problem with n discs is :\n",
    "\n",
    "T(n) = 2T(n − 2) + 2\n",
    "\n",
    "T(n) = 2T(n − 1) + n\n",
    "\n",
    "T(n) = 2T(n/2) + 1\n",
    "\n",
    "##### T(n) = 2T(n − 1) + 1 -> Correct Answer"
   ]
  },
  {
   "cell_type": "markdown",
   "id": "ec170394",
   "metadata": {},
   "source": [
    "### 2.Complexity of different operations in a sorted array.\n",
    "\n",
    "Which of the following operations is not O(1) for an array of sorted data. You may assume that array elements are distinct.\n",
    "\n",
    "Find the ith largest element\n",
    "\n",
    "##### Delete an element -> Correct Answer\n",
    "\n",
    "Find the ith smallest element\n",
    "\n",
    "All of the above"
   ]
  },
  {
   "cell_type": "markdown",
   "id": "15eb79c9",
   "metadata": {},
   "source": [
    "### 3.Complexity of a Recurrence Relation\n",
    "\n",
    "Which one of the following correctly determines the solution of the recurrence relation with T(1) = 1? T(n) = 2T(n/2) + Logn\n",
    "\n",
    "##### O(N) -> Correct Answer\n",
    "\n",
    "O(NlogN)\n",
    "\n",
    "O(N^2)\n",
    "\n",
    "O(log N)"
   ]
  },
  {
   "cell_type": "code",
   "execution_count": null,
   "id": "a159fd44",
   "metadata": {},
   "outputs": [],
   "source": []
  },
  {
   "cell_type": "markdown",
   "id": "17166544",
   "metadata": {},
   "source": [
    "## Does s contain t ?\n",
    "\n",
    "Given two string s and t, write a function to check if s contains all characters of t (in the same order as they are in string t).\n",
    "\n",
    "Return true or false.\n",
    "\n",
    "Do it recursively.\n",
    "\n",
    "E.g. : s = “abchjsgsuohhdhyrikkknddg” contains all characters of t=”coding” in the same order. So function will return true.\n",
    "\n",
    "#### Input Format :\n",
    "Line 1 : String s\n",
    "Line 2 : String t\n",
    "#### Output Format :\n",
    "true or false\n",
    "\n",
    "##### Sample Input 1 :\n",
    "abchjsgsuohhdhyrikkknddg\n",
    "\n",
    "coding\n",
    "##### Sample Output 1 :\n",
    "true\n",
    "\n",
    "##### Sample Input 2 :\n",
    "abcde\n",
    "\n",
    "aeb\n",
    "##### Sample Output 2 :\n",
    "false"
   ]
  },
  {
   "cell_type": "code",
   "execution_count": 2,
   "id": "0958174a",
   "metadata": {},
   "outputs": [
    {
     "name": "stdout",
     "output_type": "stream",
     "text": [
      "abchjsgsuohhdhyrikkknddg\n",
      "coding\n",
      "true\n"
     ]
    }
   ],
   "source": [
    "def contains(s, t, lenS, lenT):\n",
    "    \n",
    "    if lenT==0:\n",
    "        return True\n",
    "    \n",
    "    if lenS==0:\n",
    "        return False\n",
    "      \n",
    "    if(s[lenS-1]==t[lenT-1]):\n",
    "        return contains(s, t, lenS-1, lenT-1)\n",
    "    \n",
    "    else:\n",
    "        return contains(s, t, lenS-1, lenT)\n",
    "  \n",
    "\n",
    "s = input()\n",
    "t = input()\n",
    "\n",
    "lenS = len(s)\n",
    "lenT = len(t)\n",
    "\n",
    "ans = contains(s, t, lenS, lenT)\n",
    "if ans is True:\n",
    "    print('true')\n",
    "else:\n",
    "    print('false')"
   ]
  },
  {
   "cell_type": "code",
   "execution_count": null,
   "id": "63e6e672",
   "metadata": {},
   "outputs": [],
   "source": []
  },
  {
   "cell_type": "markdown",
   "id": "7c7fbe5c",
   "metadata": {},
   "source": [
    "# Maximum Profit on App\n",
    "\n",
    "You have made a smartphone app and want to set its subscription price such that the \n",
    "profit earned is maximised. There are certain users who will subscribe to your app \n",
    "only if their budget is greater than or equal to your price.\n",
    "You will be provided with a list of size N having budgets of subscribers and you need \n",
    "to return the maximum profit that you can earn.\n",
    "Lets say you decide that price of your app is Rs. x and there are N number of subscribers. \n",
    "So maximum profit you can earn is :\n",
    " m * x\n",
    " \n",
    "where m is total number of subscribers whose budget is greater than or equal to x.\n",
    "\n",
    "##### Input format :\n",
    "Line 1 : N (No. of subscribers)\n",
    "\n",
    "Line 2 : Budget of subscribers (separated by space)\n",
    "##### Output Format :\n",
    " Maximum profit\n",
    " \n",
    "##### Constraints :\n",
    "1 <= N <= 10^6\n",
    "\n",
    "1 <=budget[i]<=9999\n",
    "\n",
    "##### Sample Input 1 :\n",
    "4\n",
    "\n",
    "30 20 53 14\n",
    "##### Sample Output 1 :\n",
    "60\n",
    "\n",
    "##### Sample Output 1 Explanation :\n",
    "Price of your app should be Rs. 20 or Rs. 30. For both prices, you can get the profit Rs. 60.\n",
    "\n",
    "##### Sample Input 2 :\n",
    "5\n",
    "\n",
    "34 78 90 15 67\n",
    "\n",
    "##### Sample Output 2 :\n",
    "201\n",
    "##### Sample Output 2 Explanation :\n",
    "Price of your app should be Rs. 67. You can get the profit Rs. 201 (i.e. 3 * 67)."
   ]
  },
  {
   "cell_type": "code",
   "execution_count": 3,
   "id": "33fc0372",
   "metadata": {},
   "outputs": [
    {
     "name": "stdout",
     "output_type": "stream",
     "text": [
      "4\n",
      "30 20 53 14\n",
      "60\n"
     ]
    }
   ],
   "source": [
    "def maximumProfit(arr):\n",
    "\n",
    "    maxProfit = 0\n",
    "    length = len(arr)\n",
    "    arr.sort()\n",
    "\n",
    "    for i in range(length):\n",
    "        maxProfit = max(maxProfit, arr[i]*(length-i))\n",
    "\n",
    "    return maxProfit\n",
    "\n",
    "\n",
    "n = int(input())\n",
    "arr = [int(ele) for ele in input().split()]\n",
    "ans = maximumProfit(arr)\n",
    "print(ans)\n"
   ]
  },
  {
   "cell_type": "code",
   "execution_count": null,
   "id": "415efe39",
   "metadata": {},
   "outputs": [],
   "source": []
  },
  {
   "cell_type": "code",
   "execution_count": null,
   "id": "dc2205eb",
   "metadata": {},
   "outputs": [],
   "source": []
  },
  {
   "cell_type": "markdown",
   "id": "21e2f275",
   "metadata": {},
   "source": [
    "# Split Array\n",
    "\n",
    "Given an integer array A of size N, check if the input array can be splitted in \n",
    "two parts such that -\n",
    "- Sum of both parts is equal\n",
    "- All elements in the input, which are divisible by 5 should be in same group.\n",
    "- All elements in the input, which are divisible by 3 (but not divisible by 5) \n",
    "    should be in other group.\n",
    "- Elements which are neither divisible by 5 nor by 3, can be put in any group.\n",
    "\n",
    "Groups can be made with any set of elements, i.e. elements need not to be continuous.\n",
    "And you need to consider each and every element of input array in some group.\n",
    "Return true, if array can be split according to the above rules, else return false.\n",
    "\n",
    "Note : You will get marks only if all the test cases are passed.\n",
    "\n",
    "##### Input Format :\n",
    "Line 1 : Integer N (size of array)\n",
    "\n",
    "Line 2 : Array A elements (separated by space)\n",
    "\n",
    "##### Output Format :\n",
    "true or false\n",
    "\n",
    "##### Constraints :\n",
    "1 <= N <= 50\n",
    "\n",
    "##### Sample Input 1 :\n",
    "2\n",
    "\n",
    "1 2\n",
    "##### Sample Output 1 :\n",
    "false\n",
    "\n",
    "##### Sample Input 2 :\n",
    "3\n",
    "\n",
    "1 4 3\n",
    "##### Sample Output 2 :\n",
    "true"
   ]
  },
  {
   "cell_type": "code",
   "execution_count": 4,
   "id": "e643a31d",
   "metadata": {},
   "outputs": [
    {
     "name": "stdout",
     "output_type": "stream",
     "text": [
      "2\n",
      "1 2\n",
      "false\n"
     ]
    }
   ],
   "source": [
    "def split(arr, start, end, arrSum1, arrSum2):\n",
    "\n",
    "    if start > end:\n",
    "        return arrSum1 == arrSum2\n",
    "\n",
    "    if arr[start] % 5 == 0:\n",
    "        return split(arr, start+1, end, arrSum1+arr[start], arrSum2)\n",
    "\n",
    "    elif arr[start] % 3 == 0:\n",
    "        return split(arr, start+1, end, arrSum1, arrSum2+arr[start])\n",
    "\n",
    "    else:\n",
    "        return split(arr, start+1, end, arrSum1, arrSum2+arr[start]) or split(arr, start+1, end, arrSum1+arr[start], arrSum2)\n",
    "\n",
    "\n",
    "n = int(input())\n",
    "arr = [int(ele) for ele in input().split()]\n",
    "\n",
    "start = 0\n",
    "end = n-1\n",
    "arrSum1 = 0\n",
    "arrSum2 = 0\n",
    "\n",
    "ans = split(arr, start, end, arrSum1, arrSum2)\n",
    "if ans is True:\n",
    "    print('true')\n",
    "else:\n",
    "    print('false')"
   ]
  }
 ],
 "metadata": {
  "kernelspec": {
   "display_name": "Python 3 (ipykernel)",
   "language": "python",
   "name": "python3"
  },
  "language_info": {
   "codemirror_mode": {
    "name": "ipython",
    "version": 3
   },
   "file_extension": ".py",
   "mimetype": "text/x-python",
   "name": "python",
   "nbconvert_exporter": "python",
   "pygments_lexer": "ipython3",
   "version": "3.9.13"
  }
 },
 "nbformat": 4,
 "nbformat_minor": 5
}
