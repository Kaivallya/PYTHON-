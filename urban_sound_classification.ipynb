{
 "cells": [
  {
   "cell_type": "markdown",
   "metadata": {},
   "source": [
    "## Dataset and its structure\n",
    "\n",
    "1. We can use Urban Sound Classification ( https://urbansounddataset.weebly.com/ ) dataset which is quite popular.\n",
    "2. Whichever dataset you are using, it is important to understand its structure and how to extract required features out of them.\n",
    "3. For UrbanSound8K dataset, it can be downloaded using the following link ( https://goo.gl/8hY5ER  ). It downloads a compressed tar file of size around 6GB.\n",
    "4. On extracting it, it contains two folders named 'audio' and 'metadata'.\n",
    "5. Audio folder contains 10 folders with name fold1, fold2 and so on, each having approximately 800 audio files of 4s each.\n",
    "6. Metadata folder contains a .csv file having various columns such as file_id, label, class_id corresponding to label, salience etc.\n",
    "7. Complete description can be found here https://urbansounddataset.weebly.com/urbansound8k.html\n",
    "\n",
    "## Research Paper and Resources to follow\n",
    "\n",
    "1. https://github.com/meyda/meyda/wiki/audio-features\n",
    "2. https://github.com/tyiannak/pyAudioAnalysis/wiki/3.-Feature-Extraction\n",
    "3. https://medium.com/@ageitgey/machine-learning-is-fun-part-6-how-to-do-speech-recognition-with-deep-learning-28293c162f7a\n",
    "4. https://towardsdatascience.com/urban-sound-classification-part-1-99137c6335f9\n",
    "5. https://www.analyticsvidhya.com/blog/2017/08/audio-voice-processing-deep-learning/\n",
    "\n",
    "## Library To Use\n",
    "\n",
    "We can use librosa library which can be installed using \n",
    "> pip install librosa\n",
    "\n",
    "It uses ffmpeg as backend to convert and read some of the audio files. So to install ffmpeg, you can use \n",
    "> apt-get install ffmpeg\n",
    "\n",
    "Librosa library can read audio files and convert them to there amplitude values for each sample of audio. Let us say there is an audio file of 4s and sampling rate of audio file is 22050 Hz. This means that audio file is made using amplitude samples such that 22050 samples of amplitudes are recorded in each second. Hence a 4s audio file with sampling rate 22050 can be expressed as an array of 4\\*22050=88200 size \n"
   ]
  },
  {
   "cell_type": "markdown",
   "metadata": {},
   "source": [
    "## How to Load Audio Files and Extract Features\n",
    "\n",
    "Using load method of librosa library, we can read audio files. It takes file path as input and returns an array having amplitude samples along with sampling rate of file.\n",
    "\n",
    "Librosa library has many methods already build to extract features mentioned in resources which then returns another array of features.\n",
    "We can use various combinations of those features. This is something you can play around and try how and which features like mfcc, spectral features, energy etc affect the classification of audio. \n",
    "\n",
    "For eg, in first stage you can extract only mfcc features and then build up a model and check the accuracy. Then try the same with other features. In order to further improve accuracy, you can also try to use more than one type of features and check the results.\n",
    "\n",
    "## Using CNN to classify sound\n",
    "\n",
    "This is a very classical way of sound classification as it is observed that similar type of sounds have similar spectrogram (read resource 3 to understand more about spectrogram). A spectrogram is a visual representation of the spectrum of frequencies of sound or other signal as they vary with time. And thus we can train a CNN network which takes these spectrogram images as input and using it tries to generalize patterns and hence classify them."
   ]
  },
  {
   "cell_type": "code",
   "execution_count": 1,
   "metadata": {},
   "outputs": [
    {
     "name": "stdout",
     "output_type": "stream",
     "text": [
      "Collecting librosa\n",
      "  Downloading librosa-0.10.1-py3-none-any.whl.metadata (8.3 kB)\n",
      "Collecting audioread>=2.1.9 (from librosa)\n",
      "  Downloading audioread-3.0.1-py3-none-any.whl.metadata (8.4 kB)\n",
      "Requirement already satisfied: numpy!=1.22.0,!=1.22.1,!=1.22.2,>=1.20.3 in c:\\users\\kaivalya\\anaconda3\\lib\\site-packages (from librosa) (1.23.5)\n",
      "Requirement already satisfied: scipy>=1.2.0 in c:\\users\\kaivalya\\anaconda3\\lib\\site-packages (from librosa) (1.9.3)\n",
      "Requirement already satisfied: scikit-learn>=0.20.0 in c:\\users\\kaivalya\\anaconda3\\lib\\site-packages (from librosa) (1.0.2)\n",
      "Requirement already satisfied: joblib>=0.14 in c:\\users\\kaivalya\\anaconda3\\lib\\site-packages (from librosa) (1.1.1)\n",
      "Requirement already satisfied: decorator>=4.3.0 in c:\\users\\kaivalya\\anaconda3\\lib\\site-packages (from librosa) (5.1.1)\n",
      "Requirement already satisfied: numba>=0.51.0 in c:\\users\\kaivalya\\anaconda3\\lib\\site-packages (from librosa) (0.56.4)\n",
      "Collecting soundfile>=0.12.1 (from librosa)\n",
      "  Downloading soundfile-0.12.1-py2.py3-none-win_amd64.whl (1.0 MB)\n",
      "     ---------------------------------------- 1.0/1.0 MB 1.2 MB/s eta 0:00:00\n",
      "Collecting pooch>=1.0 (from librosa)\n",
      "  Downloading pooch-1.8.0-py3-none-any.whl.metadata (9.9 kB)\n",
      "Collecting soxr>=0.3.2 (from librosa)\n",
      "  Downloading soxr-0.3.7-cp39-cp39-win_amd64.whl.metadata (5.7 kB)\n",
      "Requirement already satisfied: typing-extensions>=4.1.1 in c:\\users\\kaivalya\\anaconda3\\lib\\site-packages (from librosa) (4.4.0)\n",
      "Collecting lazy-loader>=0.1 (from librosa)\n",
      "  Downloading lazy_loader-0.3-py3-none-any.whl.metadata (4.3 kB)\n",
      "Requirement already satisfied: msgpack>=1.0 in c:\\users\\kaivalya\\anaconda3\\lib\\site-packages (from librosa) (1.0.3)\n",
      "Requirement already satisfied: llvmlite<0.40,>=0.39.0dev0 in c:\\users\\kaivalya\\anaconda3\\lib\\site-packages (from numba>=0.51.0->librosa) (0.39.1)\n",
      "Requirement already satisfied: setuptools in c:\\users\\kaivalya\\anaconda3\\lib\\site-packages (from numba>=0.51.0->librosa) (67.6.1)\n",
      "Requirement already satisfied: platformdirs>=2.5.0 in c:\\users\\kaivalya\\anaconda3\\lib\\site-packages (from pooch>=1.0->librosa) (2.5.2)\n",
      "Requirement already satisfied: packaging>=20.0 in c:\\users\\kaivalya\\anaconda3\\lib\\site-packages (from pooch>=1.0->librosa) (22.0)\n",
      "Requirement already satisfied: requests>=2.19.0 in c:\\users\\kaivalya\\anaconda3\\lib\\site-packages (from pooch>=1.0->librosa) (2.28.1)\n",
      "Requirement already satisfied: threadpoolctl>=2.0.0 in c:\\users\\kaivalya\\anaconda3\\lib\\site-packages (from scikit-learn>=0.20.0->librosa) (2.2.0)\n",
      "Requirement already satisfied: cffi>=1.0 in c:\\users\\kaivalya\\anaconda3\\lib\\site-packages (from soundfile>=0.12.1->librosa) (1.15.1)\n",
      "Requirement already satisfied: pycparser in c:\\users\\kaivalya\\anaconda3\\lib\\site-packages (from cffi>=1.0->soundfile>=0.12.1->librosa) (2.21)\n",
      "Requirement already satisfied: charset-normalizer<3,>=2 in c:\\users\\kaivalya\\anaconda3\\lib\\site-packages (from requests>=2.19.0->pooch>=1.0->librosa) (2.0.4)\n",
      "Requirement already satisfied: idna<4,>=2.5 in c:\\users\\kaivalya\\anaconda3\\lib\\site-packages (from requests>=2.19.0->pooch>=1.0->librosa) (3.4)\n",
      "Requirement already satisfied: urllib3<1.27,>=1.21.1 in c:\\users\\kaivalya\\anaconda3\\lib\\site-packages (from requests>=2.19.0->pooch>=1.0->librosa) (1.26.13)\n",
      "Requirement already satisfied: certifi>=2017.4.17 in c:\\users\\kaivalya\\anaconda3\\lib\\site-packages (from requests>=2.19.0->pooch>=1.0->librosa) (2022.12.7)\n",
      "Downloading librosa-0.10.1-py3-none-any.whl (253 kB)\n",
      "   ---------------------------------------- 253.7/253.7 kB 2.6 MB/s eta 0:00:00\n",
      "Downloading audioread-3.0.1-py3-none-any.whl (23 kB)\n",
      "Downloading lazy_loader-0.3-py3-none-any.whl (9.1 kB)\n",
      "Downloading pooch-1.8.0-py3-none-any.whl (62 kB)\n",
      "   ---------------------------------------- 62.7/62.7 kB 3.5 MB/s eta 0:00:00\n",
      "Downloading soxr-0.3.7-cp39-cp39-win_amd64.whl (184 kB)\n",
      "   ---------------------------------------- 184.8/184.8 kB 2.8 MB/s eta 0:00:00\n",
      "Installing collected packages: soxr, lazy-loader, audioread, soundfile, pooch, librosa\n",
      "Successfully installed audioread-3.0.1 lazy-loader-0.3 librosa-0.10.1 pooch-1.8.0 soundfile-0.12.1 soxr-0.3.7\n",
      "Note: you may need to restart the kernel to use updated packages.\n"
     ]
    }
   ],
   "source": [
    "pip install librosa"
   ]
  },
  {
   "cell_type": "code",
   "execution_count": 3,
   "metadata": {},
   "outputs": [
    {
     "name": "stderr",
     "output_type": "stream",
     "text": [
      "'apt-get' is not recognized as an internal or external command,\n",
      "operable program or batch file.\n"
     ]
    }
   ],
   "source": [
    "!apt-get install ffmpeg"
   ]
  },
  {
   "cell_type": "code",
   "execution_count": null,
   "metadata": {},
   "outputs": [],
   "source": []
  }
 ],
 "metadata": {
  "kernelspec": {
   "display_name": "Python 3",
   "language": "python",
   "name": "python3"
  },
  "language_info": {
   "codemirror_mode": {
    "name": "ipython",
    "version": 3
   },
   "file_extension": ".py",
   "mimetype": "text/x-python",
   "name": "python",
   "nbconvert_exporter": "python",
   "pygments_lexer": "ipython3",
   "version": "3.9.13"
  }
 },
 "nbformat": 4,
 "nbformat_minor": 2
}
