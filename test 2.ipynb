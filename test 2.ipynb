{
 "cells": [
  {
   "cell_type": "code",
   "execution_count": 1,
   "id": "807e9770",
   "metadata": {
    "scrolled": true
   },
   "outputs": [
    {
     "name": "stdout",
     "output_type": "stream",
     "text": [
      "3 3\n",
      "1 2 3\n",
      "4 5 6\n",
      "7 8 9\n",
      "1 2 3\n",
      "1 2 3\n",
      "1 2 3\n",
      "4 5 6\n",
      "4 5 6\n",
      "7 8 9\n"
     ]
    }
   ],
   "source": [
    "n, m = map(int, input().split())\n",
    "lst = []\n",
    "for i in range(n):\n",
    "    lst.append(list(map(int, input().split())))\n",
    "# Printing output\n",
    "for i in range(n):\n",
    "    for j in range(n-i):\n",
    "        print(*lst[i])"
   ]
  },
  {
   "cell_type": "code",
   "execution_count": 4,
   "id": "17edd89a",
   "metadata": {},
   "outputs": [
    {
     "name": "stdout",
     "output_type": "stream",
     "text": [
      "abc de ghihjk a uvw h j\n",
      "a\n"
     ]
    }
   ],
   "source": [
    "S = str(input())\n",
    "list_words = S.split()\n",
    "min_len = len(list_words[0])\n",
    "min_word = list_words[0]\n",
    "for word in list_words:\n",
    "    if len(word) < min_len:\n",
    "        min_len = len(word)\n",
    "        min_word = word\n",
    "print(min_word)"
   ]
  },
  {
   "cell_type": "code",
   "execution_count": 6,
   "id": "df086246",
   "metadata": {},
   "outputs": [
    {
     "name": "stdout",
     "output_type": "stream",
     "text": [
      "5\n",
      "13 17 5 4 6\n",
      "17 "
     ]
    }
   ],
   "source": [
    "n=int(input())\n",
    "A=list(map(int,input().split()))\n",
    "max=A[n-1]\n",
    "for i in range(n-1,-1,-1):\n",
    "    if A[i]>max:\n",
    "        max=A[i]\n",
    "        print(max,end=\" \")"
   ]
  },
  {
   "cell_type": "code",
   "execution_count": 12,
   "id": "9ae49f09",
   "metadata": {},
   "outputs": [
    {
     "name": "stdout",
     "output_type": "stream",
     "text": [
      "6\n",
      "3 12 34 2 0 -1\n",
      "-1 0 2 34 "
     ]
    }
   ],
   "source": [
    "def find_leaders(arr):\n",
    "    n = len(arr)\n",
    "    max_so_far = arr[n-1]\n",
    "    print(arr[n-1], end=\" \")\n",
    "    for i in range(n-2, -1, -1):\n",
    "        if arr[i] >= max_so_far:\n",
    "            print(arr[i], end=\" \")\n",
    "            max_so_far = arr[i]\n",
    "\n",
    "# Example usage\n",
    "n = int(input())\n",
    "arr = list(map(int, input().split()))\n",
    "find_leaders(arr)"
   ]
  },
  {
   "cell_type": "code",
   "execution_count": 11,
   "id": "18935232",
   "metadata": {},
   "outputs": [],
   "source": [
    "def find_leaders(n, A):\n",
    "    leaders = []\n",
    "    maxSoFar = A[-1]\n",
    "    leaders.append(maxSoFar)\n",
    "    for i in range(n-2,-1,-1):\n",
    "        if A[i] >= maxSoFar:\n",
    "            maxSoFar = A[i]\n",
    "            leaders.append(maxSoFar)\n",
    "    print(\" \".join(map(str, leaders[::-1])))"
   ]
  },
  {
   "cell_type": "code",
   "execution_count": 20,
   "id": "642beb1d",
   "metadata": {
    "scrolled": true
   },
   "outputs": [
    {
     "name": "stdout",
     "output_type": "stream",
     "text": [
      "5\n",
      "13 17 5 4 6\n",
      "6 17\n"
     ]
    }
   ],
   "source": [
    "def find_leaders(n, A):\n",
    "    leaders = []\n",
    "    for i in range(n-1, -1, -1):\n",
    "        if all(x <= A[i] for x in A[i+1:]):\n",
    "            leaders.append(A[i])\n",
    "    print(\" \".join(map(str, leaders)))\n",
    "\n",
    "n = int(input())\n",
    "A = list(map(int, input().split()))\n",
    "find_leaders(n, A)"
   ]
  },
  {
   "cell_type": "code",
   "execution_count": 29,
   "id": "30472875",
   "metadata": {},
   "outputs": [
    {
     "name": "stdout",
     "output_type": "stream",
     "text": [
      "6\n",
      "3 12 34 2 0 -1\n",
      "34 2 0\n"
     ]
    }
   ],
   "source": [
    "def find_leaders(n, A):\n",
    "    leaders = []\n",
    "    max_seen = -1\n",
    "    for i in range(n-1, -1, -1):\n",
    "        if A[i] > max_seen:\n",
    "            leaders.append(A[i])\n",
    "            max_seen = A[i]\n",
    "    return leaders\n",
    "\n",
    "n = int(input())\n",
    "A = list(map(int, input().split()))\n",
    "leaders = find_leaders(n, A)\n",
    "print(\" \".join(map(str, leaders[::-1])))"
   ]
  },
  {
   "cell_type": "code",
   "execution_count": 30,
   "id": "2bf81b14",
   "metadata": {},
   "outputs": [
    {
     "name": "stdout",
     "output_type": "stream",
     "text": [
      "6\n",
      "3 12 34 2 0 -1\n",
      "-1 0 2 34 "
     ]
    }
   ],
   "source": [
    "n = int(input())\n",
    "A = list(map(int, input().split()))\n",
    "max = A[n-1]\n",
    "print(max, end = \" \")\n",
    "for i in range(n-2,-1,-1):\n",
    "    if A[i]>=max:\n",
    "        max = A[i]\n",
    "        print(max, end = \" \")"
   ]
  },
  {
   "cell_type": "code",
   "execution_count": 37,
   "id": "78265199",
   "metadata": {},
   "outputs": [
    {
     "name": "stdout",
     "output_type": "stream",
     "text": [
      "6\n",
      "3 12 34 2 0 -1\n",
      "-1 0 2 34 "
     ]
    }
   ],
   "source": [
    "n = int(input())\n",
    "A = list(map(int, input().split()))\n",
    "A = A[::-1]\n",
    "max = A[0]\n",
    "print(max, end = \" \")\n",
    "for i in range(1, n):\n",
    "    if A[i] >= max:\n",
    "        max = A[i]\n",
    "        print(max, end = \" \")"
   ]
  },
  {
   "cell_type": "code",
   "execution_count": 50,
   "id": "80e87cbd",
   "metadata": {},
   "outputs": [
    {
     "name": "stdout",
     "output_type": "stream",
     "text": [
      "5\n",
      "13 17 5 4 6\n",
      "17 6\n"
     ]
    }
   ],
   "source": [
    "def find_leaders(n, A):\n",
    "    leaders = []\n",
    "    max_seen = -3\n",
    "    for i in range(n-1, -1, -1):\n",
    "        if A[i] > max_seen:\n",
    "            leaders.append(A[i])\n",
    "            max_seen = A[i]\n",
    "    return leaders\n",
    "\n",
    "n = int(input())\n",
    "A = list(map(int, input().split()))\n",
    "leaders = find_leaders(n, A)\n",
    "print(\" \".join(map(str, leaders[::-1])))"
   ]
  },
  {
   "cell_type": "code",
   "execution_count": 53,
   "id": "1068d05c",
   "metadata": {},
   "outputs": [
    {
     "name": "stdout",
     "output_type": "stream",
     "text": [
      "17 5 4 6 "
     ]
    }
   ],
   "source": [
    "def printLeaders(arr,size):\n",
    "     \n",
    "    for i in range(0, size):\n",
    "        for j in range(i+1, size):\n",
    "            if arr[i]<=arr[j]:\n",
    "                break\n",
    "        if j == size-1: # If loop didn't break\n",
    "            print (arr[i],end=' ')\n",
    " \n",
    "# Driver function\n",
    "arr=[13,17,5,4,6]\n",
    "printLeaders(arr, len(arr))"
   ]
  },
  {
   "cell_type": "code",
   "execution_count": 55,
   "id": "8a0bc9b1",
   "metadata": {},
   "outputs": [],
   "source": [
    "def leaders(self, A, N):\n",
    "        ans=[]\n",
    "        maxx=A[N-1]\n",
    "        for i in range(N-1,-1,-1):\n",
    "            if A[i]>=maxx:\n",
    "                maxx=A[i]\n",
    "                ans.append(maxx)\n",
    "        ans.reverse()\n",
    "        return ans"
   ]
  },
  {
   "cell_type": "code",
   "execution_count": null,
   "id": "6c0b6679",
   "metadata": {},
   "outputs": [],
   "source": []
  }
 ],
 "metadata": {
  "kernelspec": {
   "display_name": "Python 3 (ipykernel)",
   "language": "python",
   "name": "python3"
  },
  "language_info": {
   "codemirror_mode": {
    "name": "ipython",
    "version": 3
   },
   "file_extension": ".py",
   "mimetype": "text/x-python",
   "name": "python",
   "nbconvert_exporter": "python",
   "pygments_lexer": "ipython3",
   "version": "3.9.13"
  }
 },
 "nbformat": 4,
 "nbformat_minor": 5
}
