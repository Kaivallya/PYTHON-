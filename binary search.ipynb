{
 "cells": [
  {
   "cell_type": "code",
   "execution_count": 2,
   "id": "d2139b82",
   "metadata": {},
   "outputs": [],
   "source": [
    "def binary_search(array,element,debug=False):\n",
    "    lower_bound=0\n",
    "    upper_bound=len(array)-1\n",
    "    while lower_bound<=upper_bound:\n",
    "        middle=(lower_bound+upper_bound)//2 #integer\n",
    "        if debug:\n",
    "            print(\"Lower Bound\",lower_bound)\n",
    "            print(\"upper Bound\",upper_bound)\n",
    "            print(\"Middle\",middle)\n",
    "        if element==array[middle]:\n",
    "            return \"Your Value is found at middle at index\",middle\n",
    "        elif element<array[middle]: #Lesser condition\n",
    "            #no change in lower bound\n",
    "            upper_bound=middle-1\n",
    "        else:#greater condition\n",
    "            #upper bound remains same\n",
    "            lower_bound=middle+1 \n",
    "    return \"Your element isn't available in the array\""
   ]
  },
  {
   "cell_type": "code",
   "execution_count": 3,
   "id": "3e58554c",
   "metadata": {},
   "outputs": [
    {
     "name": "stdout",
     "output_type": "stream",
     "text": [
      "Lower Bound 0\n",
      "upper Bound 5\n",
      "Middle 2\n",
      "Lower Bound 3\n",
      "upper Bound 5\n",
      "Middle 4\n",
      "Lower Bound 3\n",
      "upper Bound 3\n",
      "Middle 3\n"
     ]
    },
    {
     "data": {
      "text/plain": [
       "('Your Value is found at middle at index', 3)"
      ]
     },
     "execution_count": 3,
     "metadata": {},
     "output_type": "execute_result"
    }
   ],
   "source": [
    "array=[12,34,45,56,67,89]\n",
    "x1=56\n",
    "x2=57\n",
    "binary_search(array,x1,debug=True)"
   ]
  },
  {
   "cell_type": "code",
   "execution_count": 4,
   "id": "009d26da",
   "metadata": {},
   "outputs": [
    {
     "name": "stdout",
     "output_type": "stream",
     "text": [
      "Lower Bound 0\n",
      "upper Bound 9\n",
      "Middle 4\n"
     ]
    },
    {
     "data": {
      "text/plain": [
       "('Your Value is found at middle at index', 4)"
      ]
     },
     "execution_count": 4,
     "metadata": {},
     "output_type": "execute_result"
    }
   ],
   "source": [
    "array=[12,34,45,56,56,56,56,56,67,89]\n",
    "x1=56\n",
    "x2=57\n",
    "binary_search(array,x1,debug=True)"
   ]
  },
  {
   "cell_type": "code",
   "execution_count": 5,
   "id": "b2b15c65",
   "metadata": {},
   "outputs": [
    {
     "ename": "SyntaxError",
     "evalue": "unexpected EOF while parsing (3539215604.py, line 36)",
     "output_type": "error",
     "traceback": [
      "\u001b[1;36m  File \u001b[1;32m\"C:\\Users\\Kaivalya\\AppData\\Local\\Temp\\ipykernel_7840\\3539215604.py\"\u001b[1;36m, line \u001b[1;32m36\u001b[0m\n\u001b[1;33m    for i in range(0, len(\u001b[0m\n\u001b[1;37m                          ^\u001b[0m\n\u001b[1;31mSyntaxError\u001b[0m\u001b[1;31m:\u001b[0m unexpected EOF while parsing\n"
     ]
    }
   ],
   "source": [
    "# write a python code,your sorted array has\n",
    "# duplicate numbers.\n",
    "# For example, if the array is as follows: [1, 2, 2, 3, 3, 3, 4, 8, 9, 19, 19, 19]\n",
    "# Try writing the code for the following two cases.\n",
    "# 1. Finding first occurrence of the given number.\n",
    "# 2. Finding the last occurrence of the given number.\n",
    "\n",
    "# Case 1: Finding first occurrence of the given number \n",
    "\n",
    "arr = [1, 2, 2, 3, 3, 3, 4, 8, 9, 19, 19, 19]\n",
    "given_num = 3\n",
    "\n",
    "# Initialize firstOccurrence to -1\n",
    "firstOccurrence = -1\n",
    "\n",
    "# Use a for loop to traverse the array\n",
    "for i in range(0, len(arr)):\n",
    "    # Check if the given number is equal to the current element\n",
    "    if arr[i] == given_num:\n",
    "        # Set the firstOccurrence equal to the index of the element\n",
    "        firstOccurrence = i\n",
    "        break\n",
    "\n",
    "# Print the firstOccurrence\n",
    "print(\"The first occurrence of the given number is at index\", firstOccurrence)\n",
    "\n",
    "# Case 2: Finding the last occurrence of the given number\n",
    "\n",
    "arr = [1, 2, 2, 3, 3, 3, 4, 8, 9, 19, 19, 19]\n",
    "given_num = 3\n",
    "\n",
    "# Initialize lastOccurrence to -1\n",
    "lastOccurrence = -1\n",
    "\n",
    "# Use a for loop to traverse the array\n",
    "for i in range(0, len("
   ]
  },
  {
   "cell_type": "code",
   "execution_count": null,
   "id": "ba3f39f8",
   "metadata": {},
   "outputs": [],
   "source": []
  }
 ],
 "metadata": {
  "kernelspec": {
   "display_name": "Python 3 (ipykernel)",
   "language": "python",
   "name": "python3"
  },
  "language_info": {
   "codemirror_mode": {
    "name": "ipython",
    "version": 3
   },
   "file_extension": ".py",
   "mimetype": "text/x-python",
   "name": "python",
   "nbconvert_exporter": "python",
   "pygments_lexer": "ipython3",
   "version": "3.9.13"
  }
 },
 "nbformat": 4,
 "nbformat_minor": 5
}
