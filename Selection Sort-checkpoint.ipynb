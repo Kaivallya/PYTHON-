{
 "cells": [
  {
   "cell_type": "code",
   "execution_count": 3,
   "metadata": {},
   "outputs": [
    {
     "name": "stdout",
     "output_type": "stream",
     "text": [
      "7\n",
      "13 5 2 7 44 9 2\n",
      "2 5 7 9 13 44 2 "
     ]
    }
   ],
   "source": [
    "def selectionSort(ar):\n",
    "    l = len(ar)\n",
    "    \n",
    "    for i in range(l-1):\n",
    "        min = i\n",
    "        for j in range(i+1, l-1):\n",
    "            if ar[j] < ar[min]:\n",
    "                min = j\n",
    "        ar[i], ar[min] = ar[min], ar[i]\n",
    "        \n",
    "    for i in ar:\n",
    "        print(i, end =' ')\n",
    "    \n",
    "    \n",
    "    \n",
    "\n",
    "n = int(input())\n",
    "ar = [int(x) for x in input().split()[:n]]\n",
    "\n",
    "selectionSort(ar)"
   ]
  },
  {
   "cell_type": "code",
   "execution_count": 3,
   "metadata": {},
   "outputs": [
    {
     "ename": "ValueError",
     "evalue": "invalid literal for int() with base 10: ''",
     "output_type": "error",
     "traceback": [
      "\u001b[1;31m---------------------------------------------------------------------------\u001b[0m",
      "\u001b[1;31mValueError\u001b[0m                                Traceback (most recent call last)",
      "\u001b[1;32m~\\AppData\\Local\\Temp\\ipykernel_4504\\1828913464.py\u001b[0m in \u001b[0;36m<module>\u001b[1;34m\u001b[0m\n\u001b[0;32m     46\u001b[0m \u001b[1;33m\u001b[0m\u001b[0m\n\u001b[0;32m     47\u001b[0m \u001b[1;31m#main\u001b[0m\u001b[1;33m\u001b[0m\u001b[1;33m\u001b[0m\u001b[0m\n\u001b[1;32m---> 48\u001b[1;33m \u001b[0mt\u001b[0m \u001b[1;33m=\u001b[0m \u001b[0mint\u001b[0m\u001b[1;33m(\u001b[0m\u001b[0mstdin\u001b[0m\u001b[1;33m.\u001b[0m\u001b[0mreadline\u001b[0m\u001b[1;33m(\u001b[0m\u001b[1;33m)\u001b[0m\u001b[1;33m.\u001b[0m\u001b[0mstrip\u001b[0m\u001b[1;33m(\u001b[0m\u001b[1;33m)\u001b[0m\u001b[1;33m)\u001b[0m\u001b[1;33m\u001b[0m\u001b[1;33m\u001b[0m\u001b[0m\n\u001b[0m\u001b[0;32m     49\u001b[0m \u001b[1;33m\u001b[0m\u001b[0m\n\u001b[0;32m     50\u001b[0m \u001b[1;32mwhile\u001b[0m \u001b[0mt\u001b[0m \u001b[1;33m>\u001b[0m \u001b[1;36m0\u001b[0m \u001b[1;33m:\u001b[0m\u001b[1;33m\u001b[0m\u001b[1;33m\u001b[0m\u001b[0m\n",
      "\u001b[1;31mValueError\u001b[0m: invalid literal for int() with base 10: ''"
     ]
    }
   ],
   "source": [
    "from sys import stdin\n",
    "\n",
    "def selectionSort(arr, n) :\n",
    "    #Your code goes here\n",
    "    i = 1\n",
    "    while i < n:\n",
    "        temp = arr[i]\n",
    "        j = i - 1\n",
    "        while j >= 0:\n",
    "            if arr[j] > temp:\n",
    "                arr[j + 1] = arr[j]\n",
    "            else:\n",
    "                break\n",
    "\n",
    "            j -= 1\n",
    "\n",
    "        arr[j + 1] = temp\n",
    "        i += 1\n",
    "\n",
    "\n",
    "\n",
    "\n",
    "\n",
    "\n",
    "\n",
    "\n",
    "\n",
    "\n",
    "\n",
    "#Taking Input Using Fast I/O\n",
    "def takeInput() :\n",
    "    n = int(stdin.readline().strip())\n",
    "    if n == 0 :\n",
    "        return list(), 0\n",
    "\n",
    "    arr = list(map(int, stdin.readline().strip().split(\" \")))\n",
    "    return arr, n\n",
    "\n",
    "\n",
    "#to print the array/list\n",
    "def printList(arr, n) : \n",
    "    for i in range(n) :\n",
    "        print(arr[i], end = \" \")\n",
    "    print()\n",
    "\n",
    "\n",
    "#main\n",
    "t = int(stdin.readline().strip())\n",
    "\n",
    "while t > 0 :\n",
    "    \n",
    "    arr, n = takeInput()\n",
    "    selectionSort(arr, n)\n",
    "    printList(arr, n)\n",
    "\n",
    "    t-= 1\n"
   ]
  },
  {
   "cell_type": "code",
   "execution_count": null,
   "metadata": {},
   "outputs": [],
   "source": []
  }
 ],
 "metadata": {
  "kernelspec": {
   "display_name": "Python 3 (ipykernel)",
   "language": "python",
   "name": "python3"
  },
  "language_info": {
   "codemirror_mode": {
    "name": "ipython",
    "version": 3
   },
   "file_extension": ".py",
   "mimetype": "text/x-python",
   "name": "python",
   "nbconvert_exporter": "python",
   "pygments_lexer": "ipython3",
   "version": "3.9.13"
  }
 },
 "nbformat": 4,
 "nbformat_minor": 2
}
