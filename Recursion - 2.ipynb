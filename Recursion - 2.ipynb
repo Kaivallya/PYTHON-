{
 "cells": [
  {
   "cell_type": "markdown",
   "id": "b096e6d2",
   "metadata": {},
   "source": [
    "## Recursion With Strings"
   ]
  },
  {
   "cell_type": "code",
   "execution_count": 1,
   "id": "b7037437",
   "metadata": {},
   "outputs": [],
   "source": [
    "def replaceChar(s,a,b):\n",
    "    if len(s)==0:\n",
    "        return s\n",
    "    smallOutput=replaceChar(s[1:],a,b)\n",
    "    if s[0]==a:\n",
    "        return b+smallOutput\n",
    "    else:\n",
    "        return s[0]+smallOutput"
   ]
  },
  {
   "cell_type": "code",
   "execution_count": 2,
   "id": "c82ba4ec",
   "metadata": {},
   "outputs": [
    {
     "data": {
      "text/plain": [
       "'xx'"
      ]
     },
     "execution_count": 2,
     "metadata": {},
     "output_type": "execute_result"
    }
   ],
   "source": [
    "replaceChar(\"cc\",'c','x')"
   ]
  },
  {
   "cell_type": "markdown",
   "id": "2104eb89",
   "metadata": {},
   "source": [
    "## Replace Pi"
   ]
  },
  {
   "cell_type": "code",
   "execution_count": 17,
   "id": "58755545",
   "metadata": {},
   "outputs": [],
   "source": [
    "def replacePi(s):\n",
    "    if len(s)==0 or len(s)==1:\n",
    "        return s\n",
    "    if s[0]=='p' and s[1]=='i':\n",
    "        smallOutput=replacePi(s[2:])\n",
    "        return \",3.14,\"+smallOutput\n",
    "    else:\n",
    "        smallOutput=replacePi(s[1:])\n",
    "        return s[0]+smallOutput"
   ]
  },
  {
   "cell_type": "code",
   "execution_count": 18,
   "id": "652a26c6",
   "metadata": {},
   "outputs": [
    {
     "data": {
      "text/plain": [
       "',3.14,p,3.14,'"
      ]
     },
     "execution_count": 18,
     "metadata": {},
     "output_type": "execute_result"
    }
   ],
   "source": [
    "replacePi(\"pippi\")"
   ]
  },
  {
   "cell_type": "markdown",
   "id": "39e7c3a4",
   "metadata": {},
   "source": [
    "## Binary Search Using Recursion"
   ]
  },
  {
   "cell_type": "code",
   "execution_count": 19,
   "id": "95fbade1",
   "metadata": {},
   "outputs": [],
   "source": [
    "def binarySearch(a,x,si,ei):\n",
    "    if si>ei:\n",
    "        return -1\n",
    "    mid=(si+ei)//2\n",
    "    if a[mid]==x:\n",
    "        return mid\n",
    "    elif a[mid]>x:\n",
    "        return binarySearch(a,x,si,mid-1)\n",
    "    else:\n",
    "        return binarySearch(a,x,mid+1,ei)"
   ]
  },
  {
   "cell_type": "code",
   "execution_count": 20,
   "id": "e75fe61a",
   "metadata": {},
   "outputs": [
    {
     "data": {
      "text/plain": [
       "1"
      ]
     },
     "execution_count": 20,
     "metadata": {},
     "output_type": "execute_result"
    }
   ],
   "source": [
    "binarySearch([1,3,5,7,9,11,13,15,16,17],3,0,9)"
   ]
  },
  {
   "cell_type": "code",
   "execution_count": 21,
   "id": "20d47383",
   "metadata": {},
   "outputs": [
    {
     "data": {
      "text/plain": [
       "-1"
      ]
     },
     "execution_count": 21,
     "metadata": {},
     "output_type": "execute_result"
    }
   ],
   "source": [
    "binarySearch([1,3,5,7,9,11,13,15,16,17],2,0,9)"
   ]
  },
  {
   "cell_type": "markdown",
   "id": "8e509dd9",
   "metadata": {},
   "source": [
    "## Merge Sort"
   ]
  },
  {
   "cell_type": "code",
   "execution_count": 22,
   "id": "510fa411",
   "metadata": {},
   "outputs": [
    {
     "name": "stdout",
     "output_type": "stream",
     "text": [
      "6\n",
      "2 6 8 5 4 3\n",
      "2 3 4 5 6 8\n"
     ]
    }
   ],
   "source": [
    "def mergeSort(arr, start, end):\n",
    "    if start >= end:\n",
    "        return\n",
    "    mid = (start + end)//2\n",
    "    mergeSort(arr, start, mid)\n",
    "    mergeSort(arr, mid + 1, end)\n",
    "    merge(arr, start, mid, end)\n",
    "\n",
    "def merge(arr, start, mid, end):\n",
    "    temp = [0]*(end - start + 1)\n",
    "    i = start\n",
    "    j = mid + 1\n",
    "    k = 0\n",
    "\n",
    "    while i <= mid and j <= end:\n",
    "        if arr[i] <= arr[j]:\n",
    "            temp[k] = arr[i]\n",
    "            k += 1\n",
    "            i += 1\n",
    "        else:\n",
    "            temp[k] = arr[j]\n",
    "            k += 1\n",
    "            j += 1\n",
    "\n",
    "    while i <= mid:\n",
    "        temp[k] = arr[i]\n",
    "        k += 1\n",
    "        i += 1\n",
    "\n",
    "    while j <= end:\n",
    "        temp[k] = arr[j]\n",
    "        k += 1\n",
    "        j += 1\n",
    "\n",
    "    for i in range(start, end + 1):\n",
    "        arr[i] = temp[i - start]\n",
    "\n",
    "# Main\n",
    "n=int(input())\n",
    "arr=list(int(i) for i in input().strip().split(' '))\n",
    "mergeSort(arr, 0, n-1)\n",
    "print(*arr)"
   ]
  },
  {
   "cell_type": "code",
   "execution_count": 23,
   "id": "2470f7c3",
   "metadata": {},
   "outputs": [
    {
     "name": "stdout",
     "output_type": "stream",
     "text": [
      "5\n",
      "2 1 5 2 3\n",
      "1 2 2 3 5\n"
     ]
    }
   ],
   "source": [
    "def mergeSort(arr, start, end):\n",
    "    if start >= end:\n",
    "        return\n",
    "    mid = (start + end)//2\n",
    "    mergeSort(arr, start, mid)\n",
    "    mergeSort(arr, mid + 1, end)\n",
    "    merge(arr, start, mid, end)\n",
    "\n",
    "def merge(arr, start, mid, end):\n",
    "    temp = [0]*(end - start + 1)\n",
    "    i = start\n",
    "    j = mid + 1\n",
    "    k = 0\n",
    "\n",
    "    while i <= mid and j <= end:\n",
    "        if arr[i] <= arr[j]:\n",
    "            temp[k] = arr[i]\n",
    "            k += 1\n",
    "            i += 1\n",
    "        else:\n",
    "            temp[k] = arr[j]\n",
    "            k += 1\n",
    "            j += 1\n",
    "\n",
    "    while i <= mid:\n",
    "        temp[k] = arr[i]\n",
    "        k += 1\n",
    "        i += 1\n",
    "\n",
    "    while j <= end:\n",
    "        temp[k] = arr[j]\n",
    "        k += 1\n",
    "        j += 1\n",
    "\n",
    "    for i in range(start, end + 1):\n",
    "        arr[i] = temp[i - start]\n",
    "\n",
    "# Main\n",
    "n=int(input())\n",
    "arr=list(int(i) for i in input().strip().split(' '))\n",
    "mergeSort(arr, 0, n-1)\n",
    "print(*arr)"
   ]
  },
  {
   "cell_type": "code",
   "execution_count": null,
   "id": "7809dd33",
   "metadata": {},
   "outputs": [],
   "source": []
  },
  {
   "cell_type": "code",
   "execution_count": 2,
   "id": "ab56e36f",
   "metadata": {},
   "outputs": [],
   "source": [
    "def merge(a1,a2,a):\n",
    "    i=0\n",
    "    j=0\n",
    "    k=0\n",
    "    while i<len(a1) and j<len(a2):\n",
    "        if(a1[i]<a2[j]):\n",
    "            a[k]=a1[i]\n",
    "            k=k+1\n",
    "            i=i+1\n",
    "        else:\n",
    "            a[k]=a2[j]\n",
    "            k=k+1\n",
    "            j=j+1\n",
    "    while i<len(a1):\n",
    "        a[k]=a1[i]\n",
    "        k=k+1\n",
    "        i=i+1\n",
    "    while j<len(a2):\n",
    "        a[k]=a2[j]\n",
    "        k=k+1\n",
    "        j=j+1"
   ]
  },
  {
   "cell_type": "code",
   "execution_count": 3,
   "id": "1726c322",
   "metadata": {},
   "outputs": [],
   "source": [
    "def merge_sort(a):\n",
    "    if len(a)==0 or len(a)==1:\n",
    "        return\n",
    "    mid=len(a)//2\n",
    "    a1=a[0:mid]\n",
    "    a2=a[mid:]\n",
    "    \n",
    "    merge_sort(a1)\n",
    "    merge_sort(a2)\n",
    "    merge(a1,a2,a)"
   ]
  },
  {
   "cell_type": "code",
   "execution_count": 4,
   "id": "c1ec8c9c",
   "metadata": {},
   "outputs": [
    {
     "data": {
      "text/plain": [
       "[1, 3, 4, 5, 7, 9, 10]"
      ]
     },
     "execution_count": 4,
     "metadata": {},
     "output_type": "execute_result"
    }
   ],
   "source": [
    "a=[10,5,3,1,7,9,4]\n",
    "merge_sort(a)\n",
    "a"
   ]
  },
  {
   "cell_type": "markdown",
   "id": "00d187ea",
   "metadata": {},
   "source": [
    "## Quick Sort"
   ]
  },
  {
   "cell_type": "code",
   "execution_count": 5,
   "id": "f2a59c02",
   "metadata": {},
   "outputs": [
    {
     "ename": "SyntaxError",
     "evalue": "invalid syntax (2894946904.py, line 6)",
     "output_type": "error",
     "traceback": [
      "\u001b[1;36m  File \u001b[1;32m\"C:\\Users\\Kaivalya\\AppData\\Local\\Temp\\ipykernel_14324\\2894946904.py\"\u001b[1;36m, line \u001b[1;32m6\u001b[0m\n\u001b[1;33m    if arr[i]=pivot:\u001b[0m\n\u001b[1;37m             ^\u001b[0m\n\u001b[1;31mSyntaxError\u001b[0m\u001b[1;31m:\u001b[0m invalid syntax\n"
     ]
    }
   ],
   "source": [
    "def partition(arr, start, end):\n",
    "    pivot = arr[start]\n",
    "    \n",
    "    count = 0\n",
    "    for i in range(start, end+1):\n",
    "        if arr[i]=pivot:\n",
    "            j -= 1\n",
    "        else:\n",
    "            arr[i], arr[j] = arr[j], arr[i]\n",
    "            i += 1\n",
    "            j -= 1\n",
    "    return pivot_index\n",
    "\n",
    "def quickSort(arr, start, end):\n",
    "    if start>=end:\n",
    "        return \n",
    "    \n",
    "    pivot_index = partition(arr, start, end)\n",
    "    quickSort(arr, start, pivot_index-1)\n",
    "    quickSort(arr, pivot_index+1, end)\n",
    "      \n",
    "n=int(input())\n",
    "arr=list(int(i) for i in input().strip().split(' '))\n",
    "quickSort(arr, 0, n-1)\n",
    "print(*arr)\n",
    "     "
   ]
  },
  {
   "cell_type": "code",
   "execution_count": 6,
   "id": "b992fbd2",
   "metadata": {},
   "outputs": [
    {
     "name": "stdout",
     "output_type": "stream",
     "text": [
      "6\n",
      "2 6 8 5 4 3\n",
      "2 3 4 5 6 8\n"
     ]
    }
   ],
   "source": [
    "def quickSort(arr, start, end):\n",
    "    # Please add your code here\n",
    "    if start >= end:\n",
    "        return\n",
    "    pivot = arr[start]\n",
    "    left = start+1\n",
    "    right = end-1\n",
    "    while True:\n",
    "        while left <= right and arr[left] <= pivot:\n",
    "            left += 1\n",
    "        while left <= right and arr[right] >= pivot:\n",
    "            right -= 1\n",
    "        if left > right:\n",
    "            break\n",
    "        else:\n",
    "            arr[left], arr[right] = arr[right], arr[left]\n",
    "    arr[start], arr[right] = arr[right], arr[start]\n",
    "    quickSort(arr, start, right)\n",
    "    quickSort(arr, right+1, end)\n",
    "\n",
    "n=int(input())\n",
    "arr=list(int(i) for i in input().strip().split(' '))\n",
    "quickSort(arr, 0, n)\n",
    "print(*arr)\n"
   ]
  },
  {
   "cell_type": "code",
   "execution_count": 7,
   "id": "04f875d1",
   "metadata": {},
   "outputs": [],
   "source": [
    "def partition(a,si,ei):\n",
    "    pivot=a[si]\n",
    "    #find number of elements smaller than pivot\n",
    "    c=0\n",
    "    for i in range(si,ei+1):\n",
    "        if a[i]<pivot:\n",
    "            c=c+1\n",
    "    a[si+c],a[si]=a[si],a[si+c]\n",
    "    pivot_index=si+c\n",
    "    \n",
    "    i=si\n",
    "    j=ei\n",
    "    while i<j:\n",
    "        if a[i]<pivot:\n",
    "            i=i+1\n",
    "        elif a[j]>=pivot:\n",
    "            j=j-1\n",
    "        else:\n",
    "            a[i],a[j]=a[j],a[i]\n",
    "            i=i+1\n",
    "            j=j-1\n",
    "    return pivot_index"
   ]
  },
  {
   "cell_type": "code",
   "execution_count": 8,
   "id": "3089e90e",
   "metadata": {},
   "outputs": [],
   "source": [
    "def quick_sort(a,si,ei):\n",
    "    if si>=ei:\n",
    "        return\n",
    "    \n",
    "    pivot_index=partition(a,si,ei)\n",
    "    quick_sort(a,si,pivot_index-1)\n",
    "    quick_sort(a,pivot_index+1,ei)"
   ]
  },
  {
   "cell_type": "code",
   "execution_count": 11,
   "id": "f161cde7",
   "metadata": {},
   "outputs": [
    {
     "name": "stdout",
     "output_type": "stream",
     "text": [
      "5\n"
     ]
    },
    {
     "data": {
      "text/plain": [
       "[1, 2, 4, 5, 3, 6, 7, 8, 9, 10]"
      ]
     },
     "execution_count": 11,
     "metadata": {},
     "output_type": "execute_result"
    }
   ],
   "source": [
    "a=[6,10,9,8,7,1,3,5,4,2]\n",
    "print(partition(a,0,len(a)-1))\n",
    "a"
   ]
  },
  {
   "cell_type": "code",
   "execution_count": 10,
   "id": "760929c8",
   "metadata": {},
   "outputs": [
    {
     "name": "stdout",
     "output_type": "stream",
     "text": [
      "None\n"
     ]
    },
    {
     "data": {
      "text/plain": [
       "[1, 2, 3, 4, 5, 6, 7, 8, 9, 10]"
      ]
     },
     "execution_count": 10,
     "metadata": {},
     "output_type": "execute_result"
    }
   ],
   "source": [
    "a=[6,10,9,8,7,1,3,5,4,2]\n",
    "print(quick_sort(a,0,len(a)-1))\n",
    "a"
   ]
  },
  {
   "cell_type": "markdown",
   "id": "ae59a2f0",
   "metadata": {},
   "source": [
    "## Tower Of Hanoi Code"
   ]
  },
  {
   "cell_type": "code",
   "execution_count": 1,
   "id": "ba537840",
   "metadata": {},
   "outputs": [],
   "source": [
    "def tower_hanoi(n,a,b,c):\n",
    "    if n==1:\n",
    "        print(\"move 1st disk from\", a, \"to\", c)\n",
    "        return\n",
    "    tower_hanoi(n-1,a,c,b)\n",
    "    print(\"move\",n,\"th disk from\",a,\"to\",c)\n",
    "    tower_hanoi(n-1,b,a,c)"
   ]
  },
  {
   "cell_type": "code",
   "execution_count": 2,
   "id": "69fcae23",
   "metadata": {},
   "outputs": [
    {
     "name": "stdout",
     "output_type": "stream",
     "text": [
      "move 1st disk from s to h\n",
      "move 2 th disk from s to d\n",
      "move 1st disk from h to d\n"
     ]
    }
   ],
   "source": [
    "tower_hanoi(2,\"s\",\"h\",\"d\")"
   ]
  },
  {
   "cell_type": "code",
   "execution_count": null,
   "id": "e229f993",
   "metadata": {},
   "outputs": [],
   "source": []
  }
 ],
 "metadata": {
  "kernelspec": {
   "display_name": "Python 3 (ipykernel)",
   "language": "python",
   "name": "python3"
  },
  "language_info": {
   "codemirror_mode": {
    "name": "ipython",
    "version": 3
   },
   "file_extension": ".py",
   "mimetype": "text/x-python",
   "name": "python",
   "nbconvert_exporter": "python",
   "pygments_lexer": "ipython3",
   "version": "3.9.13"
  }
 },
 "nbformat": 4,
 "nbformat_minor": 5
}
