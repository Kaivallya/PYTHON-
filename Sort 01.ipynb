{
 "cells": [
  {
   "cell_type": "markdown",
   "metadata": {},
   "source": [
    "## Sort 0 1:\n",
    "You are given an integer array A that contains only integers 0 and 1. Write a function to sort this array. Find a solution which scans the array only once. Don't use extra array.\n",
    "You need to change in the given array itself. So no need to return or print anything.\n",
    "\n",
    "### Input format :\n",
    "\n",
    "Line 1 : Integer N (Array Size)\n",
    "\n",
    "Line 2 : Array elements (separated by space)\n",
    "\n",
    "### Output format :\n",
    "\n",
    "Sorted array elements\n",
    "\n",
    "### Constraints :\n",
    "\n",
    "1 <= N <= 10^6\n",
    "\n",
    "### Sample Input :\n",
    "\n",
    "7\n",
    "\n",
    "0 1 1 0 1 0 1\n",
    "\n",
    "### Sample Output :\n",
    "\n",
    "0 0 0 1 1 1 1"
   ]
  },
  {
   "cell_type": "code",
   "execution_count": 4,
   "metadata": {},
   "outputs": [
    {
     "name": "stdout",
     "output_type": "stream",
     "text": [
      "7\n",
      "1 0 1 0 0 1 0\n",
      "0 0 0 0 1 1 1 "
     ]
    }
   ],
   "source": [
    "def bubble(ar):\n",
    "    a = 0\n",
    "    b = 0\n",
    "    for i in ar:\n",
    "        if i == 0:\n",
    "            a+=1\n",
    "        else:\n",
    "            b+=1\n",
    "    res = []\n",
    "    for i in range(0, a):\n",
    "        res.append(0)\n",
    "    for i in range(0, b):\n",
    "        res.append(1)\n",
    "        \n",
    "    for i in res:\n",
    "        print(i, end = ' ')\n",
    "\n",
    "n = int(input())\n",
    "ar = [int(x) for x in input().split()[:n]]\n",
    "bubble(ar)"
   ]
  }
 ],
 "metadata": {
  "kernelspec": {
   "display_name": "Python 3",
   "language": "python",
   "name": "python3"
  },
  "language_info": {
   "codemirror_mode": {
    "name": "ipython",
    "version": 3
   },
   "file_extension": ".py",
   "mimetype": "text/x-python",
   "name": "python",
   "nbconvert_exporter": "python",
   "pygments_lexer": "ipython3",
   "version": "3.7.3"
  }
 },
 "nbformat": 4,
 "nbformat_minor": 2
}
