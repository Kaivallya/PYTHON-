{
 "cells": [
  {
   "cell_type": "code",
   "execution_count": 3,
   "id": "0a1fb29b",
   "metadata": {},
   "outputs": [],
   "source": [
    "li=[[1,2,3,4],[5,6,7,8],[9,10,11,12],[13,14,15,16]]\n"
   ]
  },
  {
   "cell_type": "code",
   "execution_count": 4,
   "id": "c43d60f2",
   "metadata": {},
   "outputs": [
    {
     "data": {
      "text/plain": [
       "11"
      ]
     },
     "execution_count": 4,
     "metadata": {},
     "output_type": "execute_result"
    }
   ],
   "source": [
    "li[2][2]\n"
   ]
  },
  {
   "cell_type": "code",
   "execution_count": 5,
   "id": "e1d3e605",
   "metadata": {},
   "outputs": [
    {
     "data": {
      "text/plain": [
       "12"
      ]
     },
     "execution_count": 5,
     "metadata": {},
     "output_type": "execute_result"
    }
   ],
   "source": [
    "\n",
    "li[2][3]\n"
   ]
  },
  {
   "cell_type": "code",
   "execution_count": 6,
   "id": "02a68d0e",
   "metadata": {},
   "outputs": [
    {
     "ename": "IndexError",
     "evalue": "list index out of range",
     "output_type": "error",
     "traceback": [
      "\u001b[1;31m---------------------------------------------------------------------------\u001b[0m",
      "\u001b[1;31mIndexError\u001b[0m                                Traceback (most recent call last)",
      "\u001b[1;32m~\\AppData\\Local\\Temp\\ipykernel_15932\\671242198.py\u001b[0m in \u001b[0;36m<module>\u001b[1;34m\u001b[0m\n\u001b[1;32m----> 1\u001b[1;33m \u001b[0mli\u001b[0m\u001b[1;33m[\u001b[0m\u001b[1;36m2\u001b[0m\u001b[1;33m]\u001b[0m\u001b[1;33m[\u001b[0m\u001b[1;36m5\u001b[0m\u001b[1;33m]\u001b[0m\u001b[1;33m\u001b[0m\u001b[1;33m\u001b[0m\u001b[0m\n\u001b[0m",
      "\u001b[1;31mIndexError\u001b[0m: list index out of range"
     ]
    }
   ],
   "source": [
    "\n",
    "li[2][5]\n"
   ]
  },
  {
   "cell_type": "code",
   "execution_count": 7,
   "id": "3d3a94bc",
   "metadata": {},
   "outputs": [],
   "source": [
    "li[1][2]=20"
   ]
  },
  {
   "cell_type": "code",
   "execution_count": 8,
   "id": "d7903f74",
   "metadata": {},
   "outputs": [
    {
     "data": {
      "text/plain": [
       "[[1, 2, 3, 4], [5, 6, 20, 8], [9, 10, 11, 12], [13, 14, 15, 16]]"
      ]
     },
     "execution_count": 8,
     "metadata": {},
     "output_type": "execute_result"
    }
   ],
   "source": [
    "li"
   ]
  },
  {
   "cell_type": "markdown",
   "id": "632667a2",
   "metadata": {},
   "source": [
    "## Storing of 2 list"
   ]
  },
  {
   "cell_type": "code",
   "execution_count": 9,
   "id": "048487e0",
   "metadata": {},
   "outputs": [],
   "source": [
    "li=[[1,2,3,4],[5,6,7,8]]"
   ]
  },
  {
   "cell_type": "code",
   "execution_count": 10,
   "id": "7173cf46",
   "metadata": {},
   "outputs": [
    {
     "data": {
      "text/plain": [
       "[1, 2, 3, 4]"
      ]
     },
     "execution_count": 10,
     "metadata": {},
     "output_type": "execute_result"
    }
   ],
   "source": [
    "li[0]"
   ]
  },
  {
   "cell_type": "code",
   "execution_count": 11,
   "id": "db07ea76",
   "metadata": {},
   "outputs": [
    {
     "data": {
      "text/plain": [
       "list"
      ]
     },
     "execution_count": 11,
     "metadata": {},
     "output_type": "execute_result"
    }
   ],
   "source": [
    "type(li[0])"
   ]
  },
  {
   "cell_type": "code",
   "execution_count": 12,
   "id": "676ee851",
   "metadata": {},
   "outputs": [],
   "source": [
    "\n",
    "li[0][1]=4\n"
   ]
  },
  {
   "cell_type": "code",
   "execution_count": 13,
   "id": "ffd7f86f",
   "metadata": {},
   "outputs": [
    {
     "data": {
      "text/plain": [
       "[[1, 4, 3, 4], [5, 6, 7, 8]]"
      ]
     },
     "execution_count": 13,
     "metadata": {},
     "output_type": "execute_result"
    }
   ],
   "source": [
    "\n",
    "li\n"
   ]
  },
  {
   "cell_type": "code",
   "execution_count": 14,
   "id": "75c20471",
   "metadata": {},
   "outputs": [
    {
     "data": {
      "text/plain": [
       "1832731238656"
      ]
     },
     "execution_count": 14,
     "metadata": {},
     "output_type": "execute_result"
    }
   ],
   "source": [
    "\n",
    "id(li)\n"
   ]
  },
  {
   "cell_type": "code",
   "execution_count": 15,
   "id": "c3790b02",
   "metadata": {},
   "outputs": [
    {
     "data": {
      "text/plain": [
       "1832731239744"
      ]
     },
     "execution_count": 15,
     "metadata": {},
     "output_type": "execute_result"
    }
   ],
   "source": [
    "\n",
    "id(li[0])\n"
   ]
  },
  {
   "cell_type": "code",
   "execution_count": 16,
   "id": "65256510",
   "metadata": {},
   "outputs": [
    {
     "data": {
      "text/plain": [
       "1832725517888"
      ]
     },
     "execution_count": 16,
     "metadata": {},
     "output_type": "execute_result"
    }
   ],
   "source": [
    "\n",
    "id(li[1])\n"
   ]
  },
  {
   "cell_type": "code",
   "execution_count": 17,
   "id": "e8c771aa",
   "metadata": {},
   "outputs": [],
   "source": [
    "\n",
    "li[1]=\"Parikh\"\n"
   ]
  },
  {
   "cell_type": "code",
   "execution_count": 18,
   "id": "31a00594",
   "metadata": {},
   "outputs": [
    {
     "data": {
      "text/plain": [
       "[[1, 4, 3, 4], 'Parikh']"
      ]
     },
     "execution_count": 18,
     "metadata": {},
     "output_type": "execute_result"
    }
   ],
   "source": [
    "\n",
    "li\n"
   ]
  },
  {
   "cell_type": "code",
   "execution_count": 19,
   "id": "4496b7bd",
   "metadata": {},
   "outputs": [],
   "source": [
    "\n",
    "li[1]=[1,3,2,7]\n"
   ]
  },
  {
   "cell_type": "code",
   "execution_count": 20,
   "id": "c13688f1",
   "metadata": {},
   "outputs": [
    {
     "data": {
      "text/plain": [
       "[[1, 4, 3, 4], [1, 3, 2, 7]]"
      ]
     },
     "execution_count": 20,
     "metadata": {},
     "output_type": "execute_result"
    }
   ],
   "source": [
    "\n",
    "li\n"
   ]
  },
  {
   "cell_type": "code",
   "execution_count": 24,
   "id": "901c237e",
   "metadata": {},
   "outputs": [
    {
     "ename": "IndexError",
     "evalue": "list index out of range",
     "output_type": "error",
     "traceback": [
      "\u001b[1;31m---------------------------------------------------------------------------\u001b[0m",
      "\u001b[1;31mIndexError\u001b[0m                                Traceback (most recent call last)",
      "\u001b[1;32m~\\AppData\\Local\\Temp\\ipykernel_15932\\2203943361.py\u001b[0m in \u001b[0;36m<module>\u001b[1;34m\u001b[0m\n\u001b[1;32m----> 1\u001b[1;33m \u001b[0mli\u001b[0m\u001b[1;33m[\u001b[0m\u001b[1;36m0\u001b[0m\u001b[1;33m]\u001b[0m\u001b[1;33m[\u001b[0m\u001b[1;36m5\u001b[0m\u001b[1;33m]\u001b[0m\u001b[1;33m\u001b[0m\u001b[1;33m\u001b[0m\u001b[0m\n\u001b[0m",
      "\u001b[1;31mIndexError\u001b[0m: list index out of range"
     ]
    }
   ],
   "source": [
    "li[0][5]"
   ]
  },
  {
   "cell_type": "code",
   "execution_count": 22,
   "id": "9649af08",
   "metadata": {},
   "outputs": [
    {
     "name": "stdout",
     "output_type": "stream",
     "text": [
      "8\n"
     ]
    }
   ],
   "source": [
    "li = [[1,2,3],[4,5,6],[7,8,9]]\n",
    "print(li[2][1])"
   ]
  },
  {
   "cell_type": "code",
   "execution_count": 25,
   "id": "336d730c",
   "metadata": {
    "scrolled": true
   },
   "outputs": [
    {
     "ename": "IndexError",
     "evalue": "list index out of range",
     "output_type": "error",
     "traceback": [
      "\u001b[1;31m---------------------------------------------------------------------------\u001b[0m",
      "\u001b[1;31mIndexError\u001b[0m                                Traceback (most recent call last)",
      "\u001b[1;32m~\\AppData\\Local\\Temp\\ipykernel_15932\\874746283.py\u001b[0m in \u001b[0;36m<module>\u001b[1;34m\u001b[0m\n\u001b[0;32m      1\u001b[0m \u001b[0mli\u001b[0m \u001b[1;33m=\u001b[0m \u001b[1;33m[\u001b[0m\u001b[1;33m[\u001b[0m\u001b[1;36m1\u001b[0m\u001b[1;33m,\u001b[0m\u001b[1;36m2\u001b[0m\u001b[1;33m,\u001b[0m\u001b[1;36m3\u001b[0m\u001b[1;33m]\u001b[0m\u001b[1;33m,\u001b[0m\u001b[1;33m[\u001b[0m\u001b[1;36m4\u001b[0m\u001b[1;33m,\u001b[0m\u001b[1;36m5\u001b[0m\u001b[1;33m,\u001b[0m\u001b[1;36m6\u001b[0m\u001b[1;33m]\u001b[0m\u001b[1;33m,\u001b[0m\u001b[1;33m[\u001b[0m\u001b[1;36m7\u001b[0m\u001b[1;33m,\u001b[0m\u001b[1;36m8\u001b[0m\u001b[1;33m,\u001b[0m\u001b[1;36m9\u001b[0m\u001b[1;33m]\u001b[0m\u001b[1;33m]\u001b[0m\u001b[1;33m\u001b[0m\u001b[1;33m\u001b[0m\u001b[0m\n\u001b[1;32m----> 2\u001b[1;33m \u001b[0mprint\u001b[0m\u001b[1;33m(\u001b[0m\u001b[0mli\u001b[0m\u001b[1;33m[\u001b[0m\u001b[1;36m1\u001b[0m\u001b[1;33m]\u001b[0m\u001b[1;33m[\u001b[0m\u001b[1;36m3\u001b[0m\u001b[1;33m]\u001b[0m\u001b[1;33m)\u001b[0m\u001b[1;33m\u001b[0m\u001b[1;33m\u001b[0m\u001b[0m\n\u001b[0m",
      "\u001b[1;31mIndexError\u001b[0m: list index out of range"
     ]
    }
   ],
   "source": [
    "li = [[1,2,3],[4,5,6],[7,8,9]]\n",
    "print(li[1][3])"
   ]
  },
  {
   "cell_type": "markdown",
   "id": "757662b6",
   "metadata": {},
   "source": [
    "## Jagged Lists"
   ]
  },
  {
   "cell_type": "code",
   "execution_count": 26,
   "id": "ae5ea235",
   "metadata": {},
   "outputs": [],
   "source": [
    "li=[[1,2,3,4],[5,6,7],[8,9],[10,11]]"
   ]
  },
  {
   "cell_type": "code",
   "execution_count": 27,
   "id": "404f28ee",
   "metadata": {},
   "outputs": [
    {
     "data": {
      "text/plain": [
       "[1, 2, 3, 4]"
      ]
     },
     "execution_count": 27,
     "metadata": {},
     "output_type": "execute_result"
    }
   ],
   "source": [
    "li[0]"
   ]
  },
  {
   "cell_type": "code",
   "execution_count": 29,
   "id": "e6aa05e3",
   "metadata": {},
   "outputs": [
    {
     "data": {
      "text/plain": [
       "[5, 6, 7]"
      ]
     },
     "execution_count": 29,
     "metadata": {},
     "output_type": "execute_result"
    }
   ],
   "source": [
    "\n",
    "li[1]\n"
   ]
  },
  {
   "cell_type": "code",
   "execution_count": 30,
   "id": "2f980dca",
   "metadata": {},
   "outputs": [
    {
     "data": {
      "text/plain": [
       "[8, 9]"
      ]
     },
     "execution_count": 30,
     "metadata": {},
     "output_type": "execute_result"
    }
   ],
   "source": [
    "\n",
    "li[2]\n"
   ]
  },
  {
   "cell_type": "code",
   "execution_count": 31,
   "id": "cef86d06",
   "metadata": {},
   "outputs": [
    {
     "ename": "IndexError",
     "evalue": "list index out of range",
     "output_type": "error",
     "traceback": [
      "\u001b[1;31m---------------------------------------------------------------------------\u001b[0m",
      "\u001b[1;31mIndexError\u001b[0m                                Traceback (most recent call last)",
      "\u001b[1;32m~\\AppData\\Local\\Temp\\ipykernel_15932\\3641158819.py\u001b[0m in \u001b[0;36m<module>\u001b[1;34m\u001b[0m\n\u001b[1;32m----> 1\u001b[1;33m \u001b[0mli\u001b[0m\u001b[1;33m[\u001b[0m\u001b[1;36m2\u001b[0m\u001b[1;33m]\u001b[0m\u001b[1;33m[\u001b[0m\u001b[1;36m3\u001b[0m\u001b[1;33m]\u001b[0m\u001b[1;33m\u001b[0m\u001b[1;33m\u001b[0m\u001b[0m\n\u001b[0m",
      "\u001b[1;31mIndexError\u001b[0m: list index out of range"
     ]
    }
   ],
   "source": [
    "\n",
    "li[2][3]\n"
   ]
  },
  {
   "cell_type": "code",
   "execution_count": 32,
   "id": "3a1fe124",
   "metadata": {},
   "outputs": [
    {
     "data": {
      "text/plain": [
       "4"
      ]
     },
     "execution_count": 32,
     "metadata": {},
     "output_type": "execute_result"
    }
   ],
   "source": [
    "li[0][3]"
   ]
  },
  {
   "cell_type": "code",
   "execution_count": 33,
   "id": "4d52c9eb",
   "metadata": {},
   "outputs": [
    {
     "name": "stdout",
     "output_type": "stream",
     "text": [
      "[7, 8, 9]\n"
     ]
    }
   ],
   "source": [
    "li = [[1,2,3,4],[5,6],[7,8,9]]\n",
    "print(li[2])"
   ]
  },
  {
   "cell_type": "code",
   "execution_count": 34,
   "id": "2809751d",
   "metadata": {
    "scrolled": true
   },
   "outputs": [
    {
     "ename": "IndexError",
     "evalue": "list index out of range",
     "output_type": "error",
     "traceback": [
      "\u001b[1;31m---------------------------------------------------------------------------\u001b[0m",
      "\u001b[1;31mIndexError\u001b[0m                                Traceback (most recent call last)",
      "\u001b[1;32m~\\AppData\\Local\\Temp\\ipykernel_15932\\2380423559.py\u001b[0m in \u001b[0;36m<module>\u001b[1;34m\u001b[0m\n\u001b[0;32m      1\u001b[0m \u001b[0mli\u001b[0m \u001b[1;33m=\u001b[0m \u001b[1;33m[\u001b[0m\u001b[1;33m[\u001b[0m\u001b[1;36m1\u001b[0m\u001b[1;33m,\u001b[0m\u001b[1;36m2\u001b[0m\u001b[1;33m,\u001b[0m\u001b[1;36m3\u001b[0m\u001b[1;33m,\u001b[0m\u001b[1;36m4\u001b[0m\u001b[1;33m]\u001b[0m\u001b[1;33m,\u001b[0m\u001b[1;33m[\u001b[0m\u001b[1;36m5\u001b[0m\u001b[1;33m,\u001b[0m\u001b[1;36m6\u001b[0m\u001b[1;33m]\u001b[0m\u001b[1;33m,\u001b[0m\u001b[1;33m[\u001b[0m\u001b[1;36m7\u001b[0m\u001b[1;33m,\u001b[0m\u001b[1;36m8\u001b[0m\u001b[1;33m,\u001b[0m\u001b[1;36m9\u001b[0m\u001b[1;33m]\u001b[0m\u001b[1;33m]\u001b[0m\u001b[1;33m\u001b[0m\u001b[1;33m\u001b[0m\u001b[0m\n\u001b[1;32m----> 2\u001b[1;33m \u001b[0mprint\u001b[0m\u001b[1;33m(\u001b[0m\u001b[0mli\u001b[0m\u001b[1;33m[\u001b[0m\u001b[1;36m1\u001b[0m\u001b[1;33m]\u001b[0m\u001b[1;33m[\u001b[0m\u001b[1;36m3\u001b[0m\u001b[1;33m]\u001b[0m\u001b[1;33m)\u001b[0m\u001b[1;33m\u001b[0m\u001b[1;33m\u001b[0m\u001b[0m\n\u001b[0m",
      "\u001b[1;31mIndexError\u001b[0m: list index out of range"
     ]
    }
   ],
   "source": [
    "li = [[1,2,3,4],[5,6],[7,8,9]]\n",
    "print(li[1][3])"
   ]
  },
  {
   "cell_type": "markdown",
   "id": "96ad8fc0",
   "metadata": {},
   "source": [
    "## List Comprehension"
   ]
  },
  {
   "cell_type": "code",
   "execution_count": 35,
   "id": "29759401",
   "metadata": {},
   "outputs": [
    {
     "name": "stdout",
     "output_type": "stream",
     "text": [
      "[1, 4, 9, 16]\n"
     ]
    }
   ],
   "source": [
    "li=[1,2,3,4]\n",
    "li_new=[]\n",
    "for ele in li:\n",
    "    li_new.append(ele**2)\n",
    "print(li_new)"
   ]
  },
  {
   "cell_type": "code",
   "execution_count": 36,
   "id": "91869228",
   "metadata": {},
   "outputs": [],
   "source": [
    "li_new_c=[ele**2 for ele in li]"
   ]
  },
  {
   "cell_type": "code",
   "execution_count": 37,
   "id": "7617263f",
   "metadata": {},
   "outputs": [
    {
     "data": {
      "text/plain": [
       "[1, 4, 9, 16]"
      ]
     },
     "execution_count": 37,
     "metadata": {},
     "output_type": "execute_result"
    }
   ],
   "source": [
    "li_new_c"
   ]
  },
  {
   "cell_type": "code",
   "execution_count": 38,
   "id": "25a58a0b",
   "metadata": {},
   "outputs": [],
   "source": [
    "li_even_square=[ele**2 for ele in li if ele%2==0]"
   ]
  },
  {
   "cell_type": "code",
   "execution_count": 39,
   "id": "d660f865",
   "metadata": {},
   "outputs": [
    {
     "data": {
      "text/plain": [
       "[4, 16]"
      ]
     },
     "execution_count": 39,
     "metadata": {},
     "output_type": "execute_result"
    }
   ],
   "source": [
    "li_even_square"
   ]
  },
  {
   "cell_type": "code",
   "execution_count": 40,
   "id": "32a3fb44",
   "metadata": {},
   "outputs": [],
   "source": [
    "li_even_square=[]\n",
    "for ele in li:\n",
    "    if ele %2==0:\n",
    "        li_even_square.append(ele)"
   ]
  },
  {
   "cell_type": "code",
   "execution_count": 41,
   "id": "f30d23e8",
   "metadata": {},
   "outputs": [
    {
     "data": {
      "text/plain": [
       "[2, 4]"
      ]
     },
     "execution_count": 41,
     "metadata": {},
     "output_type": "execute_result"
    }
   ],
   "source": [
    "li_even_square"
   ]
  },
  {
   "cell_type": "code",
   "execution_count": 42,
   "id": "ec2764a5",
   "metadata": {},
   "outputs": [
    {
     "name": "stdout",
     "output_type": "stream",
     "text": [
      "[6]\n"
     ]
    }
   ],
   "source": [
    "li=[1,2,3,4,5,6,7,8,9]\n",
    "li_new=[]\n",
    "for ele in li:\n",
    "    if ele%2==0:\n",
    "        if ele %3==0:\n",
    "            li_new.append(ele)\n",
    "print(li_new)"
   ]
  },
  {
   "cell_type": "code",
   "execution_count": 43,
   "id": "1d7e65ef",
   "metadata": {},
   "outputs": [],
   "source": [
    "li_new_2=[ele  for ele in li if ele%2==0 if ele%3==0]"
   ]
  },
  {
   "cell_type": "code",
   "execution_count": 46,
   "id": "003f151b",
   "metadata": {},
   "outputs": [
    {
     "name": "stdout",
     "output_type": "stream",
     "text": [
      "[6]\n"
     ]
    }
   ],
   "source": [
    "print (li_new_2)"
   ]
  },
  {
   "cell_type": "code",
   "execution_count": 47,
   "id": "751dbfb8",
   "metadata": {},
   "outputs": [
    {
     "name": "stdout",
     "output_type": "stream",
     "text": [
      "[2, 4]\n"
     ]
    }
   ],
   "source": [
    "li_1=[1,2,3,4,5]\n",
    "li_2=[2,4,6,7]\n",
    "li_inter=[]\n",
    "for ele in li_1:\n",
    "    for ele_2 in li_2:\n",
    "        if ele==ele_2:\n",
    "            li_inter.append(ele)\n",
    "print(li_inter)"
   ]
  },
  {
   "cell_type": "code",
   "execution_count": 48,
   "id": "20f0a9c9",
   "metadata": {},
   "outputs": [
    {
     "name": "stdout",
     "output_type": "stream",
     "text": [
      "[2, 4]\n"
     ]
    }
   ],
   "source": [
    "li_1=[1,2,3,4,5]\n",
    "li_2=[2,4,6,7]\n",
    "li_inter=[ele for ele in li_1 for ele2 in li_2 if ele==ele2]\n",
    "\n",
    "print(li_inter)"
   ]
  },
  {
   "cell_type": "code",
   "execution_count": 49,
   "id": "1413892b",
   "metadata": {},
   "outputs": [],
   "source": [
    "li=[1,2,3,4,5]\n",
    "li_inter=[ele**2 if ele%2==0 else ele for ele in li]"
   ]
  },
  {
   "cell_type": "code",
   "execution_count": 50,
   "id": "d36e1d32",
   "metadata": {},
   "outputs": [
    {
     "data": {
      "text/plain": [
       "[1, 4, 3, 16, 5]"
      ]
     },
     "execution_count": 50,
     "metadata": {},
     "output_type": "execute_result"
    }
   ],
   "source": [
    "li_inter"
   ]
  },
  {
   "cell_type": "code",
   "execution_count": 51,
   "id": "9f921c2f",
   "metadata": {},
   "outputs": [],
   "source": [
    "s=\"Parikh\"\n",
    "li=[ele for ele in s]"
   ]
  },
  {
   "cell_type": "code",
   "execution_count": 52,
   "id": "fb7069b1",
   "metadata": {},
   "outputs": [
    {
     "data": {
      "text/plain": [
       "['P', 'a', 'r', 'i', 'k', 'h']"
      ]
     },
     "execution_count": 52,
     "metadata": {},
     "output_type": "execute_result"
    }
   ],
   "source": [
    "li"
   ]
  },
  {
   "cell_type": "code",
   "execution_count": 53,
   "id": "fe8d7062",
   "metadata": {},
   "outputs": [],
   "source": [
    "li=[\"Parikh\",\"Rohan\",\"Ankush\"]\n",
    "l1_2d=[[s for s in ele]for ele in li]"
   ]
  },
  {
   "cell_type": "code",
   "execution_count": 55,
   "id": "2bec45f9",
   "metadata": {},
   "outputs": [
    {
     "data": {
      "text/plain": [
       "[['P', 'a', 'r', 'i', 'k', 'h'],\n",
       " ['R', 'o', 'h', 'a', 'n'],\n",
       " ['A', 'n', 'k', 'u', 's', 'h']]"
      ]
     },
     "execution_count": 55,
     "metadata": {},
     "output_type": "execute_result"
    }
   ],
   "source": [
    "l1_2d"
   ]
  },
  {
   "cell_type": "code",
   "execution_count": 56,
   "id": "34e2f7bd",
   "metadata": {},
   "outputs": [
    {
     "name": "stdout",
     "output_type": "stream",
     "text": [
      "[0, 1, 4, 9, 16]\n"
     ]
    }
   ],
   "source": [
    "li = [ele**2 for ele in range(5)]\n",
    "print(li)"
   ]
  },
  {
   "cell_type": "code",
   "execution_count": 57,
   "id": "f9d3c3a0",
   "metadata": {},
   "outputs": [
    {
     "name": "stdout",
     "output_type": "stream",
     "text": [
      "[0, 9, 36, 81]\n"
     ]
    }
   ],
   "source": [
    "li = [ele**2 for ele in range(10) if ele%3 ==0]\n",
    "print(li)"
   ]
  },
  {
   "cell_type": "code",
   "execution_count": 58,
   "id": "43665b21",
   "metadata": {},
   "outputs": [
    {
     "name": "stdout",
     "output_type": "stream",
     "text": [
      "[[0, 0, 0, 0], [0, 1, 2, 3], [0, 2, 4, 6]]\n"
     ]
    }
   ],
   "source": [
    "li = [[ i*j for j in range(4)] for i in range(3)]\n",
    "print(li)"
   ]
  },
  {
   "cell_type": "markdown",
   "id": "96fc6bcc",
   "metadata": {},
   "source": [
    "## Input Of Two Dimensional Lists"
   ]
  },
  {
   "cell_type": "code",
   "execution_count": 59,
   "id": "01a39018",
   "metadata": {},
   "outputs": [
    {
     "name": "stdout",
     "output_type": "stream",
     "text": [
      "3 4\n",
      "1 2 3 4\n",
      "5 6 7 8\n",
      "9 10 11 12\n"
     ]
    }
   ],
   "source": [
    "str=input().split()\n",
    "n,m=int(str[0]),int(str[1])\n",
    "li=[[int (j) for j in input().split()]for i in range(n)]"
   ]
  },
  {
   "cell_type": "code",
   "execution_count": 60,
   "id": "0d898452",
   "metadata": {},
   "outputs": [
    {
     "data": {
      "text/plain": [
       "[[1, 2, 3, 4], [5, 6, 7, 8], [9, 10, 11, 12]]"
      ]
     },
     "execution_count": 60,
     "metadata": {},
     "output_type": "execute_result"
    }
   ],
   "source": [
    "li"
   ]
  },
  {
   "cell_type": "code",
   "execution_count": 61,
   "id": "30052c8c",
   "metadata": {},
   "outputs": [
    {
     "name": "stdout",
     "output_type": "stream",
     "text": [
      "3\n",
      " 1 2 3 4\n",
      "5 6\n",
      "7 8 9\n"
     ]
    }
   ],
   "source": [
    "#str=input().split()\n",
    "n=int(input())\n",
    "li=[[int (j) for j in input().split()]for i in range(n)]"
   ]
  },
  {
   "cell_type": "code",
   "execution_count": 62,
   "id": "9e9f75b6",
   "metadata": {
    "scrolled": true
   },
   "outputs": [
    {
     "data": {
      "text/plain": [
       "[[1, 2, 3, 4], [5, 6], [7, 8, 9]]"
      ]
     },
     "execution_count": 62,
     "metadata": {},
     "output_type": "execute_result"
    }
   ],
   "source": [
    "li"
   ]
  },
  {
   "cell_type": "code",
   "execution_count": null,
   "id": "00ae7cf7",
   "metadata": {},
   "outputs": [],
   "source": []
  },
  {
   "cell_type": "code",
   "execution_count": 63,
   "id": "f7e2e023",
   "metadata": {},
   "outputs": [
    {
     "name": "stdout",
     "output_type": "stream",
     "text": [
      "3 4\n",
      "1 2 3 4 5 6 7 8 9 10 11 12\n"
     ]
    }
   ],
   "source": [
    "str=input().split()\n",
    "n,m=int(str[0]),int(str[1])\n",
    "b=input().split()\n",
    "arr=[ [int(b[m*i+j])for j in range(m)]for i in range(n)]"
   ]
  },
  {
   "cell_type": "code",
   "execution_count": 64,
   "id": "18418b75",
   "metadata": {},
   "outputs": [
    {
     "data": {
      "text/plain": [
       "[[1, 2, 3, 4], [5, 6, 7, 8], [9, 10, 11, 12]]"
      ]
     },
     "execution_count": 64,
     "metadata": {},
     "output_type": "execute_result"
    }
   ],
   "source": [
    "arr"
   ]
  },
  {
   "cell_type": "code",
   "execution_count": 65,
   "id": "dd42e5ce",
   "metadata": {},
   "outputs": [
    {
     "name": "stdout",
     "output_type": "stream",
     "text": [
      "3 4 1 2 3 4 5 6 7 8 9 10 11 10\n"
     ]
    }
   ],
   "source": [
    "str=input().split()\n",
    "n,m=int(str[0]),int(str[1])\n",
    "b=str[2:]\n",
    "arr=[ [int(b[m*i+j])for j in range(m)]for i in range(n)]"
   ]
  },
  {
   "cell_type": "code",
   "execution_count": 69,
   "id": "c5d25d53",
   "metadata": {},
   "outputs": [
    {
     "data": {
      "text/plain": [
       "[[1, 2, 3, 4], [5, 6, 7, 8], [9, 10, 11, 10]]"
      ]
     },
     "execution_count": 69,
     "metadata": {},
     "output_type": "execute_result"
    }
   ],
   "source": [
    "arr"
   ]
  },
  {
   "cell_type": "code",
   "execution_count": 67,
   "id": "98feb01b",
   "metadata": {},
   "outputs": [
    {
     "data": {
      "text/plain": [
       "4"
      ]
     },
     "execution_count": 67,
     "metadata": {},
     "output_type": "execute_result"
    }
   ],
   "source": [
    "m"
   ]
  },
  {
   "cell_type": "code",
   "execution_count": 68,
   "id": "1eb7b14e",
   "metadata": {},
   "outputs": [
    {
     "data": {
      "text/plain": [
       "3"
      ]
     },
     "execution_count": 68,
     "metadata": {},
     "output_type": "execute_result"
    }
   ],
   "source": [
    "n"
   ]
  },
  {
   "cell_type": "markdown",
   "id": "60342c31",
   "metadata": {},
   "source": [
    "## Printing Two Dimensional Lists"
   ]
  },
  {
   "cell_type": "code",
   "execution_count": 70,
   "id": "046a3ae1",
   "metadata": {},
   "outputs": [],
   "source": [
    "li=[[1,2,3,4],[5,6,7,8],[9,10,11,12]]"
   ]
  },
  {
   "cell_type": "code",
   "execution_count": 71,
   "id": "3633b697",
   "metadata": {},
   "outputs": [],
   "source": [
    "n=3\n",
    "m=4"
   ]
  },
  {
   "cell_type": "code",
   "execution_count": 72,
   "id": "0c812b8e",
   "metadata": {},
   "outputs": [
    {
     "name": "stdout",
     "output_type": "stream",
     "text": [
      "1\n",
      "2\n",
      "3\n",
      "4\n",
      "5\n",
      "6\n",
      "7\n",
      "8\n",
      "9\n",
      "10\n",
      "11\n",
      "12\n"
     ]
    }
   ],
   "source": [
    "for i in range(n):\n",
    "    for j in range(m):\n",
    "        print(li[i][j])"
   ]
  },
  {
   "cell_type": "code",
   "execution_count": 73,
   "id": "a2a53add",
   "metadata": {},
   "outputs": [
    {
     "name": "stdout",
     "output_type": "stream",
     "text": [
      "1 2 3 4 \n",
      "5 6 7 8 \n",
      "9 10 11 12 \n"
     ]
    }
   ],
   "source": [
    "for i in range(n):\n",
    "    for j in range(m):\n",
    "        print(li[i][j],end=' ')\n",
    "    print()"
   ]
  },
  {
   "cell_type": "code",
   "execution_count": 74,
   "id": "3cece794",
   "metadata": {},
   "outputs": [
    {
     "name": "stdout",
     "output_type": "stream",
     "text": [
      "1 2 3 4 \n",
      "5 6 \n",
      "9 10 11 \n"
     ]
    }
   ],
   "source": [
    "li=[[1,2,3,4],[5,6],[9,10,11]]\n",
    "n=3\n",
    "for row in li:\n",
    "    for ele in row:\n",
    "        print(ele,end=' ')\n",
    "    print()"
   ]
  },
  {
   "cell_type": "code",
   "execution_count": 75,
   "id": "07c9a5ff",
   "metadata": {},
   "outputs": [
    {
     "data": {
      "text/plain": [
       "'aabbabcabd'"
      ]
     },
     "execution_count": 75,
     "metadata": {},
     "output_type": "execute_result"
    }
   ],
   "source": [
    "'ab'.join('abcd')"
   ]
  },
  {
   "cell_type": "code",
   "execution_count": 76,
   "id": "8b04fbdc",
   "metadata": {},
   "outputs": [
    {
     "data": {
      "text/plain": [
       "'1ab2ab3'"
      ]
     },
     "execution_count": 76,
     "metadata": {},
     "output_type": "execute_result"
    }
   ],
   "source": [
    "'ab'.join(['1','2','3'])"
   ]
  },
  {
   "cell_type": "code",
   "execution_count": 82,
   "id": "ce778178",
   "metadata": {
    "scrolled": true
   },
   "outputs": [
    {
     "ename": "TypeError",
     "evalue": "'list' object is not callable",
     "output_type": "error",
     "traceback": [
      "\u001b[1;31m---------------------------------------------------------------------------\u001b[0m",
      "\u001b[1;31mTypeError\u001b[0m                                 Traceback (most recent call last)",
      "\u001b[1;32m~\\AppData\\Local\\Temp\\ipykernel_15932\\148562487.py\u001b[0m in \u001b[0;36m<module>\u001b[1;34m\u001b[0m\n\u001b[0;32m      2\u001b[0m \u001b[0mn\u001b[0m\u001b[1;33m=\u001b[0m\u001b[1;36m3\u001b[0m\u001b[1;33m\u001b[0m\u001b[1;33m\u001b[0m\u001b[0m\n\u001b[0;32m      3\u001b[0m \u001b[1;32mfor\u001b[0m \u001b[0mrow\u001b[0m \u001b[1;32min\u001b[0m \u001b[0mli\u001b[0m\u001b[1;33m:\u001b[0m\u001b[1;33m\u001b[0m\u001b[1;33m\u001b[0m\u001b[0m\n\u001b[1;32m----> 4\u001b[1;33m     \u001b[0moutput\u001b[0m\u001b[1;33m=\u001b[0m\u001b[1;34m' '\u001b[0m\u001b[1;33m.\u001b[0m\u001b[0mjoin\u001b[0m\u001b[1;33m(\u001b[0m\u001b[1;33m[\u001b[0m\u001b[0mstr\u001b[0m\u001b[1;33m(\u001b[0m\u001b[0mele\u001b[0m\u001b[1;33m)\u001b[0m \u001b[1;32mfor\u001b[0m \u001b[0mele\u001b[0m \u001b[1;32min\u001b[0m \u001b[0mrow\u001b[0m\u001b[1;33m]\u001b[0m\u001b[1;33m)\u001b[0m\u001b[1;33m\u001b[0m\u001b[1;33m\u001b[0m\u001b[0m\n\u001b[0m\u001b[0;32m      5\u001b[0m     \u001b[0mprint\u001b[0m\u001b[1;33m(\u001b[0m\u001b[0moutput\u001b[0m\u001b[1;33m)\u001b[0m\u001b[1;33m\u001b[0m\u001b[1;33m\u001b[0m\u001b[0m\n",
      "\u001b[1;32m~\\AppData\\Local\\Temp\\ipykernel_15932\\148562487.py\u001b[0m in \u001b[0;36m<listcomp>\u001b[1;34m(.0)\u001b[0m\n\u001b[0;32m      2\u001b[0m \u001b[0mn\u001b[0m\u001b[1;33m=\u001b[0m\u001b[1;36m3\u001b[0m\u001b[1;33m\u001b[0m\u001b[1;33m\u001b[0m\u001b[0m\n\u001b[0;32m      3\u001b[0m \u001b[1;32mfor\u001b[0m \u001b[0mrow\u001b[0m \u001b[1;32min\u001b[0m \u001b[0mli\u001b[0m\u001b[1;33m:\u001b[0m\u001b[1;33m\u001b[0m\u001b[1;33m\u001b[0m\u001b[0m\n\u001b[1;32m----> 4\u001b[1;33m     \u001b[0moutput\u001b[0m\u001b[1;33m=\u001b[0m\u001b[1;34m' '\u001b[0m\u001b[1;33m.\u001b[0m\u001b[0mjoin\u001b[0m\u001b[1;33m(\u001b[0m\u001b[1;33m[\u001b[0m\u001b[0mstr\u001b[0m\u001b[1;33m(\u001b[0m\u001b[0mele\u001b[0m\u001b[1;33m)\u001b[0m \u001b[1;32mfor\u001b[0m \u001b[0mele\u001b[0m \u001b[1;32min\u001b[0m \u001b[0mrow\u001b[0m\u001b[1;33m]\u001b[0m\u001b[1;33m)\u001b[0m\u001b[1;33m\u001b[0m\u001b[1;33m\u001b[0m\u001b[0m\n\u001b[0m\u001b[0;32m      5\u001b[0m     \u001b[0mprint\u001b[0m\u001b[1;33m(\u001b[0m\u001b[0moutput\u001b[0m\u001b[1;33m)\u001b[0m\u001b[1;33m\u001b[0m\u001b[1;33m\u001b[0m\u001b[0m\n",
      "\u001b[1;31mTypeError\u001b[0m: 'list' object is not callable"
     ]
    }
   ],
   "source": [
    "li=[[1,2,3,4],[5,6],[9,10,11]]\n",
    "n=3\n",
    "for row in li:\n",
    "    output=' '.join([str(ele) for ele in row])\n",
    "    print(output)"
   ]
  },
  {
   "cell_type": "code",
   "execution_count": 80,
   "id": "7f02f9ea",
   "metadata": {},
   "outputs": [
    {
     "data": {
      "text/plain": [
       "'axybxycxyd'"
      ]
     },
     "execution_count": 80,
     "metadata": {},
     "output_type": "execute_result"
    }
   ],
   "source": [
    "'xy'.join('abcd')"
   ]
  },
  {
   "cell_type": "markdown",
   "id": "2bbfa5d3",
   "metadata": {},
   "source": [
    "## Largest Column Sum Two Dimensional Lists"
   ]
  },
  {
   "cell_type": "code",
   "execution_count": 83,
   "id": "196414e8",
   "metadata": {},
   "outputs": [
    {
     "name": "stdout",
     "output_type": "stream",
     "text": [
      "21 3\n"
     ]
    }
   ],
   "source": [
    "def lar_Col_Sum(li):\n",
    "    n=len(li)\n",
    "    m=len(li[0])\n",
    "    max_sum=-1\n",
    "    max_col_Index=-1\n",
    "    for j in range(m):#going through each column\n",
    "        sum=0\n",
    "        for i in range(n):#gowing throw each row\n",
    "            sum+=li[i][j]\n",
    "        if sum>max_sum:\n",
    "            max_col_index=j\n",
    "            max_sum=sum\n",
    "    return max_sum,max_col_index\n",
    "        \n",
    "li=[[1,2,3,4],[8,7,6,5],[9,10,11,12]]\n",
    "lar_sum,lar_col_index=lar_Col_Sum(li)\n",
    "print(lar_sum,lar_col_index)"
   ]
  },
  {
   "cell_type": "code",
   "execution_count": 84,
   "id": "f9657bd1",
   "metadata": {},
   "outputs": [
    {
     "name": "stdout",
     "output_type": "stream",
     "text": [
      "21 3\n"
     ]
    }
   ],
   "source": [
    "def lar_Col_Sum(li):\n",
    "    n=len(li)\n",
    "    m=len(li[0])\n",
    "    max_sum=-1\n",
    "    max_col_Index=-1\n",
    "    for j in range(m):#going through each column\n",
    "        sum=0\n",
    "        for ele in li:\n",
    "            sum+=ele[j]\n",
    "        if sum>max_sum:\n",
    "            max_col_index=j\n",
    "            max_sum=sum\n",
    "    return max_sum,max_col_index\n",
    "        \n",
    "li=[[1,2,3,4],[8,7,6,5],[9,10,11,12]]\n",
    "lar_sum,lar_col_index=lar_Col_Sum(li)\n",
    "print(lar_sum,lar_col_index)"
   ]
  },
  {
   "cell_type": "code",
   "execution_count": 86,
   "id": "2ead9ce2",
   "metadata": {},
   "outputs": [
    {
     "name": "stdout",
     "output_type": "stream",
     "text": [
      "1 5 9 2 6 10 3 7 11 4 8 12 "
     ]
    }
   ],
   "source": [
    "li=[[1,2,3,4],[5,6,7,8],[9,10,11,12]]\n",
    "for j in range(4):\n",
    "    for ele in li:\n",
    "        print(ele[j],end = \" \")"
   ]
  },
  {
   "cell_type": "code",
   "execution_count": null,
   "id": "9dd6839e",
   "metadata": {},
   "outputs": [],
   "source": []
  },
  {
   "cell_type": "code",
   "execution_count": null,
   "id": "6e3744e5",
   "metadata": {},
   "outputs": [],
   "source": []
  },
  {
   "cell_type": "code",
   "execution_count": null,
   "id": "0921932d",
   "metadata": {},
   "outputs": [],
   "source": []
  },
  {
   "cell_type": "code",
   "execution_count": 1,
   "id": "25bfeca2",
   "metadata": {},
   "outputs": [
    {
     "ename": "IndentationError",
     "evalue": "unexpected indent (2974120143.py, line 2)",
     "output_type": "error",
     "traceback": [
      "\u001b[1;36m  File \u001b[1;32m\"C:\\Users\\Kaivalya\\AppData\\Local\\Temp\\ipykernel_7696\\2974120143.py\"\u001b[1;36m, line \u001b[1;32m2\u001b[0m\n\u001b[1;33m    index = 0\u001b[0m\n\u001b[1;37m    ^\u001b[0m\n\u001b[1;31mIndentationError\u001b[0m\u001b[1;31m:\u001b[0m unexpected indent\n"
     ]
    }
   ],
   "source": [
    "str = \"\"\n",
    "    index = 0\n",
    "    max_Sum = 0\n",
    "\n",
    "    for i in range(n):\n",
    "        temp_Sum = 0\n",
    "        for j in range(m):\n",
    "            temp_Sum += arr[i][j]\n",
    "\n",
    "        if (temp_Sum > max_Sum):\n",
    "            str = \"row\"\n",
    "            index = i\n",
    "            max_Sum = temp_Sum\n",
    "\n",
    "    for j in range(m):\n",
    "        temp_Sum = 0\n",
    "        for i in range(n):\n",
    "            temp_Sum += arr[i][j]\n",
    "\n",
    "        if (temp_Sum > max_Sum):\n",
    "            str = \"column\"\n",
    "            index = j\n",
    "            max_Sum = temp_Sum\n",
    "\n",
    "    \n",
    "    if (max_Sum == 0):\n",
    "        print(\"row 0 -2147483648\")\n",
    "    else:\n",
    "        print(str, index, max_Sum)"
   ]
  },
  {
   "cell_type": "code",
   "execution_count": 2,
   "id": "6313a7b4",
   "metadata": {},
   "outputs": [
    {
     "ename": "ValueError",
     "evalue": "invalid literal for int() with base 10: ''",
     "output_type": "error",
     "traceback": [
      "\u001b[1;31m---------------------------------------------------------------------------\u001b[0m",
      "\u001b[1;31mValueError\u001b[0m                                Traceback (most recent call last)",
      "\u001b[1;32m~\\AppData\\Local\\Temp\\ipykernel_7696\\481337498.py\u001b[0m in \u001b[0;36m<module>\u001b[1;34m\u001b[0m\n\u001b[0;32m     42\u001b[0m \u001b[1;33m\u001b[0m\u001b[0m\n\u001b[0;32m     43\u001b[0m \u001b[1;31m#main\u001b[0m\u001b[1;33m\u001b[0m\u001b[1;33m\u001b[0m\u001b[0m\n\u001b[1;32m---> 44\u001b[1;33m \u001b[0mt\u001b[0m \u001b[1;33m=\u001b[0m \u001b[0mint\u001b[0m\u001b[1;33m(\u001b[0m\u001b[0mstdin\u001b[0m\u001b[1;33m.\u001b[0m\u001b[0mreadline\u001b[0m\u001b[1;33m(\u001b[0m\u001b[1;33m)\u001b[0m\u001b[1;33m.\u001b[0m\u001b[0mrstrip\u001b[0m\u001b[1;33m(\u001b[0m\u001b[1;33m)\u001b[0m\u001b[1;33m)\u001b[0m\u001b[1;33m\u001b[0m\u001b[1;33m\u001b[0m\u001b[0m\n\u001b[0m\u001b[0;32m     45\u001b[0m \u001b[1;33m\u001b[0m\u001b[0m\n\u001b[0;32m     46\u001b[0m \u001b[1;32mwhile\u001b[0m \u001b[0mt\u001b[0m \u001b[1;33m>\u001b[0m \u001b[1;36m0\u001b[0m \u001b[1;33m:\u001b[0m\u001b[1;33m\u001b[0m\u001b[1;33m\u001b[0m\u001b[0m\n",
      "\u001b[1;31mValueError\u001b[0m: invalid literal for int() with base 10: ''"
     ]
    }
   ],
   "source": [
    "\n",
    "from sys import stdin\n",
    "\n",
    "\n",
    "def secondLargestElement(arr, n):\n",
    "    #Your code goes here\n",
    "    if len(arr) <= 1: \n",
    "        return -2147483648 \n",
    "    firstMax = max(arr[0], arr[1]) \n",
    "    secondMax = min(arr[0], arr[1]) \n",
    "    for i in range(2,len(arr)): \n",
    "        if arr[i] > firstMax: \n",
    "            secondMax = firstMax \n",
    "            firstMax = arr[i] \n",
    "        elif (arr[i] > secondMax and arr[i] != firstMax): \n",
    "            secondMax = arr[i] \n",
    "    if (secondMax == firstMax): \n",
    "        return -2147483648 \n",
    "    else: \n",
    "        return secondMax \n",
    "\n",
    "\n",
    "\n",
    "\n",
    "\n",
    "\n",
    "\n",
    "\n",
    "\n",
    "\n",
    "\n",
    "\n",
    "#Taking Input Using Fast I/O\n",
    "def takeInput() :\n",
    "    n = int(stdin.readline().rstrip())\n",
    "    if n != 0:\n",
    "        arr = list(map(int, stdin.readline().rstrip().split(\" \")))\n",
    "        return arr, n\n",
    "\n",
    "    return list(), 0\n",
    "\n",
    "\n",
    "\n",
    "#main\n",
    "t = int(stdin.readline().rstrip())\n",
    "\n",
    "while t > 0 : \n",
    "    \n",
    "    arr, n = takeInput()\n",
    "    print(secondLargestElement(arr, n))\n",
    "\n",
    "    t -= 1\n"
   ]
  },
  {
   "cell_type": "code",
   "execution_count": null,
   "id": "1f143db1",
   "metadata": {},
   "outputs": [],
   "source": [
    "def func(num):\n",
    "    return func(num-1)\n",
    "num = 5\n",
    "ans = func(num-1)\n",
    "print(ans)"
   ]
  },
  {
   "cell_type": "code",
   "execution_count": null,
   "id": "94d8352f",
   "metadata": {},
   "outputs": [],
   "source": []
  }
 ],
 "metadata": {
  "kernelspec": {
   "display_name": "Python 3 (ipykernel)",
   "language": "python",
   "name": "python3"
  },
  "language_info": {
   "codemirror_mode": {
    "name": "ipython",
    "version": 3
   },
   "file_extension": ".py",
   "mimetype": "text/x-python",
   "name": "python",
   "nbconvert_exporter": "python",
   "pygments_lexer": "ipython3",
   "version": "3.9.13"
  }
 },
 "nbformat": 4,
 "nbformat_minor": 5
}
