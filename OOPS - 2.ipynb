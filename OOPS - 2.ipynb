{
 "cells": [
  {
   "cell_type": "code",
   "execution_count": 1,
   "id": "32ee4080",
   "metadata": {},
   "outputs": [],
   "source": [
    "# Parent Class\n",
    "class Vehicle():\n",
    "    def __init__(self,make,model,fuel):\n",
    "        self.make=make\n",
    "        self.model=model\n",
    "        self.fuel=fuel"
   ]
  },
  {
   "cell_type": "code",
   "execution_count": 2,
   "id": "62036055",
   "metadata": {},
   "outputs": [],
   "source": [
    "# Child Class\n",
    "class Car(Vehicle):\n",
    "    def __init__(self,make,model,\n",
    "                 fuel,air_conditioning,sunroof):\n",
    "        # Parent Attributes\n",
    "        Vehicle.make=make\n",
    "        Vehicle.model=model\n",
    "        Vehicle.fuel=fuel\n",
    "        self.air_conditioning=air_conditioning\n",
    "        self.sunroof=sunroof"
   ]
  },
  {
   "cell_type": "code",
   "execution_count": 3,
   "id": "bc1e4437",
   "metadata": {},
   "outputs": [],
   "source": [
    "myobj=Car(\"Tesla\",2019,\"Electric\",True,True)"
   ]
  },
  {
   "cell_type": "code",
   "execution_count": 4,
   "id": "6a39dd6a",
   "metadata": {},
   "outputs": [
    {
     "data": {
      "text/plain": [
       "{'air_conditioning': True, 'sunroof': True}"
      ]
     },
     "execution_count": 4,
     "metadata": {},
     "output_type": "execute_result"
    }
   ],
   "source": [
    "myobj.__dict__"
   ]
  },
  {
   "cell_type": "code",
   "execution_count": null,
   "id": "d64b567e",
   "metadata": {},
   "outputs": [],
   "source": []
  },
  {
   "cell_type": "code",
   "execution_count": 6,
   "id": "1ea149fe",
   "metadata": {},
   "outputs": [
    {
     "ename": "AttributeError",
     "evalue": "'Car' object has no attribute 'color'",
     "output_type": "error",
     "traceback": [
      "\u001b[1;31m---------------------------------------------------------------------------\u001b[0m",
      "\u001b[1;31mAttributeError\u001b[0m                            Traceback (most recent call last)",
      "\u001b[1;32m~\\AppData\\Local\\Temp\\ipykernel_15596\\1702837900.py\u001b[0m in \u001b[0;36m<module>\u001b[1;34m\u001b[0m\n\u001b[0;32m      6\u001b[0m          \u001b[0mself\u001b[0m\u001b[1;33m.\u001b[0m\u001b[0mnumGears\u001b[0m \u001b[1;33m=\u001b[0m \u001b[0mnumGears\u001b[0m\u001b[1;33m\u001b[0m\u001b[1;33m\u001b[0m\u001b[0m\n\u001b[0;32m      7\u001b[0m \u001b[0mc\u001b[0m\u001b[1;33m=\u001b[0m \u001b[0mCar\u001b[0m\u001b[1;33m(\u001b[0m\u001b[1;34m\"black\"\u001b[0m\u001b[1;33m,\u001b[0m\u001b[1;36m5\u001b[0m\u001b[1;33m)\u001b[0m\u001b[1;33m\u001b[0m\u001b[1;33m\u001b[0m\u001b[0m\n\u001b[1;32m----> 8\u001b[1;33m \u001b[0mprint\u001b[0m\u001b[1;33m(\u001b[0m\u001b[0mc\u001b[0m\u001b[1;33m.\u001b[0m\u001b[0mcolor\u001b[0m\u001b[1;33m)\u001b[0m\u001b[1;33m\u001b[0m\u001b[1;33m\u001b[0m\u001b[0m\n\u001b[0m",
      "\u001b[1;31mAttributeError\u001b[0m: 'Car' object has no attribute 'color'"
     ]
    }
   ],
   "source": [
    "class Vehicle:\n",
    "     def __init__(self,color):\n",
    "         self.color = color\n",
    "class Car(Vehicle):\n",
    "     def __init__(self,color,numGears):\n",
    "         self.numGears = numGears\n",
    "c= Car(\"black\",5)\n",
    "print(c.color)"
   ]
  },
  {
   "cell_type": "code",
   "execution_count": 7,
   "id": "3a2accd7",
   "metadata": {},
   "outputs": [
    {
     "name": "stdout",
     "output_type": "stream",
     "text": [
      "black\n"
     ]
    }
   ],
   "source": [
    "class Vehicle:\n",
    "    def __init__(self,color):\n",
    "        self.color = color\n",
    "class Car(Vehicle):\n",
    "    def __init__(self,color,numGears):\n",
    "        super().__init__(color)\n",
    "        self.numGears = numGears\n",
    "c= Car(\"black\",5)\n",
    "print(c.color)"
   ]
  },
  {
   "cell_type": "code",
   "execution_count": null,
   "id": "0e262e7f",
   "metadata": {},
   "outputs": [],
   "source": []
  },
  {
   "cell_type": "code",
   "execution_count": null,
   "id": "1948d902",
   "metadata": {},
   "outputs": [],
   "source": [
    "# Parent Class\n",
    "class Vehicle():\n",
    "    def __init__(self,make,model,fuel):\n",
    "        self.make=make\n",
    "        self.__model=model\n",
    "        self.__fuel=fuel\n",
    "    def __private_method_parent(self):\n",
    "        print(\"This is private\")\n",
    "        \n",
    "\n",
    "# Child Class\n",
    "class Car(Vehicle):\n",
    "    def __init__(self,make,model,fuel,air_conditioning,sunroof):\n",
    "        # Parent Attributes\n",
    "        Vehicle.make=make\n",
    "        Vehicle.__model=model\n",
    "        Vehicle.__fuel=fuel\n",
    "        self.air_conditioning=air_conditioning\n",
    "        self.sunroof=sunroof\n",
    "    def show_parent_attribute(self):\n",
    "        print(Vehicle.make,\" \",Vehicle.__model,\" \",Vehicle.__fuel)\n",
    "    def show_privatemethod_ofparent(self):\n",
    "        self._Vehicle__private_method_parent()\n",
    "        \n",
    "myobj=Car(\"Tesla\",2019,\"Electric\",True,True)\n",
    "myobj.__dict__\n",
    "myobj.show_parent_attribute()\n",
    "myobj.make\n",
    "myobj.model\n",
    "myobj.__model\n",
    "myobj.__private_method_parent()\n",
    "myobj.show_privatemethod_ofparent()"
   ]
  },
  {
   "cell_type": "code",
   "execution_count": null,
   "id": "83b72c16",
   "metadata": {},
   "outputs": [],
   "source": []
  },
  {
   "cell_type": "code",
   "execution_count": 8,
   "id": "1dc33d1b",
   "metadata": {},
   "outputs": [
    {
     "ename": "AttributeError",
     "evalue": "'Car' object has no attribute '_Car__color'",
     "output_type": "error",
     "traceback": [
      "\u001b[1;31m---------------------------------------------------------------------------\u001b[0m",
      "\u001b[1;31mAttributeError\u001b[0m                            Traceback (most recent call last)",
      "\u001b[1;32m~\\AppData\\Local\\Temp\\ipykernel_15596\\4254579753.py\u001b[0m in \u001b[0;36m<module>\u001b[1;34m\u001b[0m\n\u001b[0;32m     10\u001b[0m         \u001b[0mprint\u001b[0m\u001b[1;33m(\u001b[0m\u001b[0mc\u001b[0m\u001b[1;33m.\u001b[0m\u001b[0mnumGears\u001b[0m\u001b[1;33m)\u001b[0m\u001b[1;33m\u001b[0m\u001b[1;33m\u001b[0m\u001b[0m\n\u001b[0;32m     11\u001b[0m \u001b[0mc\u001b[0m \u001b[1;33m=\u001b[0m \u001b[0mCar\u001b[0m\u001b[1;33m(\u001b[0m\u001b[1;34m\"black\"\u001b[0m\u001b[1;33m,\u001b[0m\u001b[1;36m5\u001b[0m\u001b[1;33m)\u001b[0m\u001b[1;33m\u001b[0m\u001b[1;33m\u001b[0m\u001b[0m\n\u001b[1;32m---> 12\u001b[1;33m \u001b[0mc\u001b[0m\u001b[1;33m.\u001b[0m\u001b[0mprintCar\u001b[0m\u001b[1;33m(\u001b[0m\u001b[1;33m)\u001b[0m\u001b[1;33m\u001b[0m\u001b[1;33m\u001b[0m\u001b[0m\n\u001b[0m",
      "\u001b[1;32m~\\AppData\\Local\\Temp\\ipykernel_15596\\4254579753.py\u001b[0m in \u001b[0;36mprintCar\u001b[1;34m(self)\u001b[0m\n\u001b[0;32m      7\u001b[0m         \u001b[0mself\u001b[0m\u001b[1;33m.\u001b[0m\u001b[0mnumGears\u001b[0m \u001b[1;33m=\u001b[0m \u001b[0mnumGears\u001b[0m\u001b[1;33m\u001b[0m\u001b[1;33m\u001b[0m\u001b[0m\n\u001b[0;32m      8\u001b[0m     \u001b[1;32mdef\u001b[0m \u001b[0mprintCar\u001b[0m\u001b[1;33m(\u001b[0m\u001b[0mself\u001b[0m\u001b[1;33m)\u001b[0m\u001b[1;33m:\u001b[0m\u001b[1;33m\u001b[0m\u001b[1;33m\u001b[0m\u001b[0m\n\u001b[1;32m----> 9\u001b[1;33m         \u001b[0mprint\u001b[0m\u001b[1;33m(\u001b[0m\u001b[0mc\u001b[0m\u001b[1;33m.\u001b[0m\u001b[0m__color\u001b[0m\u001b[1;33m,\u001b[0m\u001b[0mend\u001b[0m\u001b[1;33m=\u001b[0m\u001b[1;34m\" \"\u001b[0m\u001b[1;33m)\u001b[0m\u001b[1;33m\u001b[0m\u001b[1;33m\u001b[0m\u001b[0m\n\u001b[0m\u001b[0;32m     10\u001b[0m         \u001b[0mprint\u001b[0m\u001b[1;33m(\u001b[0m\u001b[0mc\u001b[0m\u001b[1;33m.\u001b[0m\u001b[0mnumGears\u001b[0m\u001b[1;33m)\u001b[0m\u001b[1;33m\u001b[0m\u001b[1;33m\u001b[0m\u001b[0m\n\u001b[0;32m     11\u001b[0m \u001b[0mc\u001b[0m \u001b[1;33m=\u001b[0m \u001b[0mCar\u001b[0m\u001b[1;33m(\u001b[0m\u001b[1;34m\"black\"\u001b[0m\u001b[1;33m,\u001b[0m\u001b[1;36m5\u001b[0m\u001b[1;33m)\u001b[0m\u001b[1;33m\u001b[0m\u001b[1;33m\u001b[0m\u001b[0m\n",
      "\u001b[1;31mAttributeError\u001b[0m: 'Car' object has no attribute '_Car__color'"
     ]
    }
   ],
   "source": [
    "class Vehicle:\n",
    "     def __init__(self,color):\n",
    "         self.__color = color\n",
    "class Car(Vehicle):\n",
    "    def __init__(self,color,numGears):\n",
    "        super().__init__(color)\n",
    "        self.numGears = numGears\n",
    "    def printCar(self):\n",
    "        print(c.__color,end=\" \")\n",
    "        print(c.numGears)\n",
    "c = Car(\"black\",5)\n",
    "c.printCar()"
   ]
  },
  {
   "cell_type": "code",
   "execution_count": null,
   "id": "fb4780bc",
   "metadata": {},
   "outputs": [],
   "source": []
  },
  {
   "cell_type": "code",
   "execution_count": 9,
   "id": "de7d85ac",
   "metadata": {},
   "outputs": [
    {
     "data": {
      "text/plain": [
       "'Tesla'"
      ]
     },
     "execution_count": 9,
     "metadata": {},
     "output_type": "execute_result"
    }
   ],
   "source": [
    "# Parent Class\n",
    "class Vehicle():\n",
    "    def __init__(self,make,model,fuel):\n",
    "        self.make=make\n",
    "        self.__model=model\n",
    "        self.__fuel=fuel\n",
    "    def __private_method_parent(self):\n",
    "        print(\"This is private\")\n",
    "        \n",
    "# Child Class\n",
    "class Car(Vehicle):\n",
    "    def __init__(self,make,model,fuel,air_conditioning,sunroof):\n",
    "        super(Car,self).__init__(make,model,fuel)\n",
    "        self.air_conditioning=air_conditioning\n",
    "        self.sunroof=sunroof\n",
    "myobj=Car(\"Tesla\",2019,\"Electric\",True,True)\n",
    "myobj.__dict__\n",
    "myobj.make"
   ]
  },
  {
   "cell_type": "code",
   "execution_count": 12,
   "id": "d1248ce9",
   "metadata": {},
   "outputs": [
    {
     "name": "stdout",
     "output_type": "stream",
     "text": [
      "This is child override method\n",
      "This is private\n"
     ]
    },
    {
     "data": {
      "text/plain": [
       "1666.6666666666665"
      ]
     },
     "execution_count": 12,
     "metadata": {},
     "output_type": "execute_result"
    }
   ],
   "source": [
    "1+2\n",
    "\"a\"+\"b\"\n",
    "len([1,2,3,4])\n",
    "len(\"my name is Kevi\")\n",
    "# Parent Class\n",
    "class Vehicle():\n",
    "    current_year=2021\n",
    "    base_price=1000\n",
    "    \n",
    "    def __init__(self,make,model,fuel):\n",
    "        self.make=make\n",
    "        self.__model=model\n",
    "        self.__fuel=fuel\n",
    "    def __private_method_parent(self):\n",
    "        print(\"This is private\")\n",
    "    def get_value(self):\n",
    "        age=Vehicle.current_year-self.__model\n",
    "        return Vehicle.base_price*(1/age)\n",
    "# Child Class\n",
    "class Car(Vehicle):\n",
    "    def __init__(self,make,model,fuel,air_conditioning,sunroof):\n",
    "        super(Car,self).__init__(make,model,fuel)\n",
    "        self.air_conditioning=air_conditioning\n",
    "        self.sunroof=sunroof\n",
    "    def get_value(self):\n",
    "        Vehicle.base_price=5000\n",
    "        age=Vehicle.current_year-self._Vehicle__model\n",
    "        print(\"This is child override method\")\n",
    "        return Vehicle.base_price*(1/age)\n",
    "    \n",
    "myobj=Car(\"Tesla\",2019,\"Electric\",True,True)\n",
    "myobj.__dict__\n",
    "myobj.get_value()\n",
    "myobj._Vehicle__private_method_parent()\n",
    "myparentobj=Vehicle(\"Ford\",2018,\"petrol\")\n",
    "myparentobj.get_value()"
   ]
  },
  {
   "cell_type": "code",
   "execution_count": null,
   "id": "7fc75ed9",
   "metadata": {},
   "outputs": [],
   "source": []
  },
  {
   "cell_type": "code",
   "execution_count": 13,
   "id": "790ca3c1",
   "metadata": {},
   "outputs": [
    {
     "name": "stdout",
     "output_type": "stream",
     "text": [
      "black5\n"
     ]
    }
   ],
   "source": [
    "class Vehicle:\n",
    "    def __init__(self,color):\n",
    "        self.color = color\n",
    "    def print(self):\n",
    "        print(self.color,end=\"\")\n",
    "class Car(Vehicle):\n",
    "    def __init__(self,color,numGears):\n",
    "        super().__init__(color)\n",
    "        self.numGears = numGears\n",
    "    def print(self):\n",
    "       print(self.color,end=\"\")\n",
    "       print(self.numGears)\n",
    "c = Car(\"black\",5)\n",
    "c.print()"
   ]
  },
  {
   "cell_type": "code",
   "execution_count": null,
   "id": "969d44e3",
   "metadata": {},
   "outputs": [],
   "source": [
    "class Vehicle:\n",
    "    def __init__(self,color):\n",
    "        self.color = color\n",
    "    def print(self):\n",
    "        print(c.color,end=\"\")\n",
    "class Car(Vehicle):\n",
    "    def __init__(self,color,numGears):\n",
    "        super().__init__(color)\n",
    "        self.numGears = numGears\n",
    "    def print(self):\n",
    "        self.print()\n",
    "        print(c.numGears)\n",
    "c = Car(\"black\",5)\n",
    "c.print()\n",
    "# Recursion Error"
   ]
  },
  {
   "cell_type": "code",
   "execution_count": null,
   "id": "a2cc176e",
   "metadata": {},
   "outputs": [],
   "source": []
  },
  {
   "cell_type": "code",
   "execution_count": 1,
   "id": "b075c5f2",
   "metadata": {},
   "outputs": [
    {
     "name": "stdout",
     "output_type": "stream",
     "text": [
      "This is child override method\n"
     ]
    },
    {
     "data": {
      "text/plain": [
       "2500.0"
      ]
     },
     "execution_count": 1,
     "metadata": {},
     "output_type": "execute_result"
    }
   ],
   "source": [
    "# Parent Class\n",
    "class Vehicle():\n",
    "    current_year=2021\n",
    "    base_price=1000\n",
    "    \n",
    "    def __init__(self,make,model,fuel):\n",
    "        self.make=make\n",
    "        #Protected Attributes\n",
    "        self._model=model\n",
    "        self._fuel=fuel\n",
    "    \n",
    "    def _get_value(self):\n",
    "        age=Vehicle.current_year-self.model\n",
    "        print(\"This is default method of parent\")\n",
    "        return Vehicle.base_price*(1/age)\n",
    "\n",
    "# Child Class\n",
    "class Car(Vehicle):\n",
    "    def __init__(self,make,model,fuel,air_conditioning,sunroof):\n",
    "        super(Car,self).__init__(make,model,fuel)\n",
    "        #protected\n",
    "        self._air_conditioning=air_conditioning\n",
    "        self._sunroof=sunroof\n",
    "    #Overriding Method --> replaces the parent default method\n",
    "    #Protected Method\n",
    "    def _get_value(self):\n",
    "        Vehicle.base_price=5000\n",
    "        age=Vehicle.current_year-self._model\n",
    "        print(\"This is child override method\")\n",
    "        return Vehicle.base_price*(1/age)\n",
    "\n",
    "myObj=Car(\"Tesla\",2019,\"Electric\",True,True)\n",
    "\n",
    "myObj._air_conditioning\n",
    "\n",
    "myObj._sunroof\n",
    "\n",
    "myObj._get_value()"
   ]
  },
  {
   "cell_type": "code",
   "execution_count": null,
   "id": "cd99b58e",
   "metadata": {},
   "outputs": [],
   "source": []
  },
  {
   "cell_type": "code",
   "execution_count": 6,
   "id": "471ba6d3",
   "metadata": {},
   "outputs": [],
   "source": [
    "\n",
    "\n",
    "class Circle(object):\n",
    "\n",
    "    def __init__(self,radius):\n",
    "        self.__radius = radius\n",
    "\n",
    "    def __str__(self):\n",
    "        return \"This is a Circle class which takes radius as an argument.\""
   ]
  },
  {
   "cell_type": "code",
   "execution_count": 7,
   "id": "ccadf3f8",
   "metadata": {},
   "outputs": [
    {
     "name": "stdout",
     "output_type": "stream",
     "text": [
      "This is a Circle class which takes radius as an argument.\n"
     ]
    }
   ],
   "source": [
    "c = Circle(3)\n",
    "print(c)"
   ]
  },
  {
   "cell_type": "code",
   "execution_count": null,
   "id": "8bae3b71",
   "metadata": {},
   "outputs": [],
   "source": []
  },
  {
   "cell_type": "code",
   "execution_count": 9,
   "id": "9909151b",
   "metadata": {},
   "outputs": [
    {
     "name": "stdout",
     "output_type": "stream",
     "text": [
      "This is a Circle Class\n"
     ]
    }
   ],
   "source": [
    "class Circle(object):\n",
    "    def __str__(self):\n",
    "        return \"This is a Circle Class\"\n",
    "c = Circle()\n",
    "print(c)"
   ]
  },
  {
   "cell_type": "code",
   "execution_count": null,
   "id": "cb3fe469",
   "metadata": {},
   "outputs": [],
   "source": []
  },
  {
   "cell_type": "code",
   "execution_count": 10,
   "id": "b0ef13e5",
   "metadata": {},
   "outputs": [
    {
     "data": {
      "text/plain": [
       "{'make': 'tesla',\n",
       " 'model': 2019,\n",
       " 'fuel': 'Electric',\n",
       " 'air_conditioning': True,\n",
       " '_sunroof': True,\n",
       " 'distance': 500}"
      ]
     },
     "execution_count": 10,
     "metadata": {},
     "output_type": "execute_result"
    }
   ],
   "source": [
    "#Parent class\n",
    "class Vehicle():\n",
    "    def __init__(self,make,model,fuel):\n",
    "        self.make=make\n",
    "        self.model=model\n",
    "        self.fuel=fuel\n",
    "        \n",
    "#Child Class\n",
    "class Car(Vehicle):\n",
    "    def __init__(self,make,model,fuel,air_conditioning,sunroof):\n",
    "        super(Car,self).__init__(make,model,fuel)\n",
    "        self.air_conditioning=air_conditioning\n",
    "        self._sunroof=sunroof\n",
    "class ElectricVehcile(Car):\n",
    "    def __init__(self,make,model,fuel,air_conditioning,sunroof,distance):\n",
    "        super(ElectricVehcile,self).__init__(make,model,fuel,air_conditioning,sunroof)\n",
    "        self.distance=distance\n",
    "\n",
    "myobj=ElectricVehcile(\"tesla\",2019,\"Electric\",True,True,500)\n",
    "\n",
    "myobj.__dict__\n",
    "\n",
    "\n"
   ]
  },
  {
   "cell_type": "code",
   "execution_count": null,
   "id": "b26abf3a",
   "metadata": {},
   "outputs": [],
   "source": []
  },
  {
   "cell_type": "code",
   "execution_count": 12,
   "id": "5d44b3dd",
   "metadata": {},
   "outputs": [
    {
     "name": "stdout",
     "output_type": "stream",
     "text": [
      "init of B called\n"
     ]
    }
   ],
   "source": [
    "class A:\n",
    "\n",
    "    def __init__(self):\n",
    "        print(\"init of A called\")\n",
    "class B:\n",
    "    def __init__(self):\n",
    "        print(\"init of B called\")\n",
    "\n",
    "class C(B,A):\n",
    "    def __init__(self):\n",
    "        super().__init__()\n",
    "\n",
    "c = C()"
   ]
  },
  {
   "cell_type": "code",
   "execution_count": null,
   "id": "64154028",
   "metadata": {},
   "outputs": [],
   "source": []
  },
  {
   "cell_type": "code",
   "execution_count": 13,
   "id": "e7038e31",
   "metadata": {},
   "outputs": [
    {
     "data": {
      "text/plain": [
       "[__main__.Taxi, __main__.ElectricCar, __main__.Car, object]"
      ]
     },
     "execution_count": 13,
     "metadata": {},
     "output_type": "execute_result"
    }
   ],
   "source": [
    "class Car():\n",
    "    def __init__(self,make,model,fuel):\n",
    "        self.make=make\n",
    "        self.model=model\n",
    "        self.fuel=fuel\n",
    "    def get_car_detail(self):\n",
    "        return \"the make of the car is\", self.make,\"from car class\"\n",
    "    \n",
    "class ElectricCar():\n",
    "    def __init__(self,make,model,fuel):\n",
    "        self.make=make\n",
    "        self.model=model\n",
    "        self.fuel=fuel\n",
    "        \n",
    "    def get_car_detail(self):\n",
    "        return \"the make of the car is\",self.make,\"from Electric Car class\"\n",
    "\n",
    "class Taxi(ElectricCar,Car):#Multiple Inheritance\n",
    "    def __init__(self,make,model,fuel):\n",
    "        super().__init__(make,model,fuel)\n",
    "\n",
    "myobj=Taxi(\"Tesla\",2019,\"electric\")\n",
    "\n",
    "myobj.get_car_detail()\n",
    "\n",
    "Taxi.__mro__\n",
    "\n",
    "Taxi.mro()"
   ]
  },
  {
   "cell_type": "code",
   "execution_count": null,
   "id": "1a4ef7e3",
   "metadata": {},
   "outputs": [],
   "source": []
  },
  {
   "cell_type": "code",
   "execution_count": 16,
   "id": "9c3b122a",
   "metadata": {},
   "outputs": [],
   "source": [
    "class X: \n",
    "      pass\n",
    "class Y: \n",
    "      pass\n",
    "class Z:\n",
    "      pass\n",
    "class A(X,Y):\n",
    "      pass\n",
    "class B(Y,Z):\n",
    "      pass\n",
    "class C(B,A,Y):\n",
    "      pass\n",
    "# output will be => (C -> B -> A -> X -> Y -> Z )"
   ]
  },
  {
   "cell_type": "code",
   "execution_count": null,
   "id": "0d6730d7",
   "metadata": {},
   "outputs": [],
   "source": []
  },
  {
   "cell_type": "code",
   "execution_count": 17,
   "id": "de49414e",
   "metadata": {},
   "outputs": [
    {
     "name": "stdout",
     "output_type": "stream",
     "text": [
      "The make of the model is Tesla and the model is of 2019 with a fare of 40\n"
     ]
    },
    {
     "data": {
      "text/plain": [
       "120"
      ]
     },
     "execution_count": 17,
     "metadata": {},
     "output_type": "execute_result"
    }
   ],
   "source": [
    "class Vehicle:\n",
    "    def __init__(self,make,model,fare):\n",
    "        self.make=make\n",
    "        self.model=model\n",
    "        self.fare=fare\n",
    "    def __str__(self):\n",
    "        return \"The make of the model is {} and the model is of {} with a fare of {}\".format(self.make,self.model,self.fare)\n",
    "    def __add__(self,other):\n",
    "        return self.fare+other.fare\n",
    "myob1=Vehicle(\"Tesla\",2019,40)\n",
    "myob2=Vehicle(\"ford\",2018,80)\n",
    "print(myob1)\n",
    "myob1+myob2"
   ]
  },
  {
   "cell_type": "code",
   "execution_count": null,
   "id": "2d62df14",
   "metadata": {},
   "outputs": [],
   "source": []
  }
 ],
 "metadata": {
  "kernelspec": {
   "display_name": "Python 3 (ipykernel)",
   "language": "python",
   "name": "python3"
  },
  "language_info": {
   "codemirror_mode": {
    "name": "ipython",
    "version": 3
   },
   "file_extension": ".py",
   "mimetype": "text/x-python",
   "name": "python",
   "nbconvert_exporter": "python",
   "pygments_lexer": "ipython3",
   "version": "3.9.13"
  }
 },
 "nbformat": 4,
 "nbformat_minor": 5
}
