{
 "cells": [
  {
   "cell_type": "markdown",
   "id": "64b474d9",
   "metadata": {},
   "source": [
    "## Geometric Sum"
   ]
  },
  {
   "cell_type": "code",
   "execution_count": 1,
   "id": "37cf85d8",
   "metadata": {},
   "outputs": [
    {
     "name": "stdout",
     "output_type": "stream",
     "text": [
      "3\n",
      "1.87500\n"
     ]
    }
   ],
   "source": [
    "def geo_sum(k):\n",
    "    if k==0 :\n",
    "        return 1\n",
    "    return (1/(2**k)) + (geo_sum(k-1))\n",
    "\n",
    "k = int(input())\n",
    "print(\"{:.5f}\".format(geo_sum(k)))"
   ]
  },
  {
   "cell_type": "code",
   "execution_count": null,
   "id": "ca32b20e",
   "metadata": {},
   "outputs": [],
   "source": []
  },
  {
   "cell_type": "markdown",
   "id": "95c30fa5",
   "metadata": {},
   "source": [
    "## Check Palindrome (recursive)"
   ]
  },
  {
   "cell_type": "code",
   "execution_count": 2,
   "id": "34bde808",
   "metadata": {},
   "outputs": [
    {
     "name": "stdout",
     "output_type": "stream",
     "text": [
      "racecar\n",
      "true\n"
     ]
    }
   ],
   "source": [
    "def palindrome(s, start, end):\n",
    "    if start>=end:\n",
    "        return \"true\"\n",
    "    \n",
    "    if s[start]==s[end] :\n",
    "        return palindrome(s, start+1, end-1)\n",
    "    else:\n",
    "        return \"false\"\n",
    "    \n",
    "s = input()\n",
    "start = 0\n",
    "end = len(s)-1\n",
    "print(palindrome(s, start, end))"
   ]
  },
  {
   "cell_type": "code",
   "execution_count": null,
   "id": "9ed4061e",
   "metadata": {},
   "outputs": [],
   "source": []
  },
  {
   "cell_type": "markdown",
   "id": "4cfdb371",
   "metadata": {},
   "source": [
    "## Sum of digits (recursive)"
   ]
  },
  {
   "cell_type": "code",
   "execution_count": 3,
   "id": "ed32319c",
   "metadata": {},
   "outputs": [
    {
     "name": "stdout",
     "output_type": "stream",
     "text": [
      "12345\n",
      "15\n"
     ]
    }
   ],
   "source": [
    "def sum_digit(n):\n",
    "    if n==0 :\n",
    "        return 0\n",
    "    \n",
    "    return n%10 + sum_digit(n//10)\n",
    "\n",
    "n = int(input())\n",
    "print(sum_digit(n))"
   ]
  },
  {
   "cell_type": "code",
   "execution_count": null,
   "id": "0783abb0",
   "metadata": {},
   "outputs": [],
   "source": []
  },
  {
   "cell_type": "markdown",
   "id": "b325c5c5",
   "metadata": {},
   "source": [
    "## Multiplication (Recursive)"
   ]
  },
  {
   "cell_type": "code",
   "execution_count": 11,
   "id": "e1354e84",
   "metadata": {},
   "outputs": [
    {
     "name": "stdout",
     "output_type": "stream",
     "text": [
      "3\n",
      "5\n",
      "15\n"
     ]
    }
   ],
   "source": [
    "def multiplication(m, n): \n",
    "    if n == 0: \n",
    "        return 0\n",
    "    if n > 0: \n",
    "        return m + multiplication(m, n - 1) \n",
    "    if n < 0: \n",
    "        return -m + multiplication(m, n + 1) \n",
    "m = int(input())\n",
    "n = int(input())\n",
    "print(multiplication(m, n))"
   ]
  },
  {
   "cell_type": "code",
   "execution_count": null,
   "id": "b6ae45ce",
   "metadata": {},
   "outputs": [],
   "source": []
  },
  {
   "cell_type": "markdown",
   "id": "6b35d657",
   "metadata": {},
   "source": [
    "## Count Zeros"
   ]
  },
  {
   "cell_type": "code",
   "execution_count": 4,
   "id": "6e791d61",
   "metadata": {},
   "outputs": [
    {
     "name": "stdout",
     "output_type": "stream",
     "text": [
      "00010204\n",
      "2\n"
     ]
    }
   ],
   "source": [
    "def zero(n):\n",
    "    if n==0 :\n",
    "        return 0\n",
    "    \n",
    "    if n%10 == 0:\n",
    "        return 1 + zero(n//10)\n",
    "    else:\n",
    "        return zero(n//10)\n",
    "\n",
    "n = int(input())\n",
    "if n==0 :\n",
    "    print('1')\n",
    "else:\n",
    "    print(zero(n))"
   ]
  },
  {
   "cell_type": "code",
   "execution_count": null,
   "id": "cbaa5b60",
   "metadata": {},
   "outputs": [],
   "source": []
  },
  {
   "cell_type": "markdown",
   "id": "c06d3131",
   "metadata": {},
   "source": [
    "## String to Integer"
   ]
  },
  {
   "cell_type": "code",
   "execution_count": 5,
   "id": "d9b19771",
   "metadata": {},
   "outputs": [
    {
     "name": "stdout",
     "output_type": "stream",
     "text": [
      "00001231\n",
      "1231\n"
     ]
    }
   ],
   "source": [
    "def s_to_i(string, num):\n",
    "    if len(string)==0 :\n",
    "        return num\n",
    "    \n",
    "    return s_to_i(string[1:], num*10 + ord(string[0])-48)\n",
    "    \n",
    "string = input()\n",
    "num = 0\n",
    "print(s_to_i(string, num))"
   ]
  },
  {
   "cell_type": "code",
   "execution_count": null,
   "id": "d79d55d4",
   "metadata": {},
   "outputs": [],
   "source": []
  },
  {
   "cell_type": "markdown",
   "id": "3bccec3b",
   "metadata": {},
   "source": [
    "## Pair Star"
   ]
  },
  {
   "cell_type": "code",
   "execution_count": 6,
   "id": "295f57f2",
   "metadata": {},
   "outputs": [
    {
     "name": "stdout",
     "output_type": "stream",
     "text": [
      "aaaa\n",
      "a*a*a*a\n"
     ]
    }
   ],
   "source": [
    "def pairStar(s):\n",
    "    if len(s)<=1:\n",
    "        return s\n",
    "    \n",
    "    if s[0]==s[1] :\n",
    "        return s[0] + '*' + pairStar(s[1:])\n",
    "    else:\n",
    "        return s[0] + pairStar(s[1:])\n",
    "\n",
    "s = input()\n",
    "print(pairStar(s))"
   ]
  },
  {
   "cell_type": "code",
   "execution_count": null,
   "id": "382bffcd",
   "metadata": {},
   "outputs": [],
   "source": []
  },
  {
   "cell_type": "markdown",
   "id": "68c3a51c",
   "metadata": {},
   "source": [
    "## Check AB"
   ]
  },
  {
   "cell_type": "code",
   "execution_count": 7,
   "id": "bb4985b3",
   "metadata": {},
   "outputs": [
    {
     "name": "stdout",
     "output_type": "stream",
     "text": [
      "abb\n",
      "true\n"
     ]
    }
   ],
   "source": [
    "def checkAB(s):\n",
    "    if len(s)==0 :\n",
    "        return 'true'\n",
    "       \n",
    "    if s[0]=='a':\n",
    "        if (len(s[1:]) > 1 and s[1:3] == 'bb'):\n",
    "            return checkAB(s[3:])\n",
    "        else:\n",
    "            return checkAB(s[1:])\n",
    "    else:\n",
    "        return 'false'\n",
    "        \n",
    "s = input()\n",
    "print(checkAB(s))"
   ]
  },
  {
   "cell_type": "code",
   "execution_count": null,
   "id": "3b9bb4be",
   "metadata": {},
   "outputs": [],
   "source": []
  },
  {
   "cell_type": "markdown",
   "id": "786e4f80",
   "metadata": {},
   "source": [
    "## Staircase"
   ]
  },
  {
   "cell_type": "code",
   "execution_count": 8,
   "id": "c0e6e6c3",
   "metadata": {},
   "outputs": [
    {
     "name": "stdout",
     "output_type": "stream",
     "text": [
      "4\n",
      "7\n"
     ]
    }
   ],
   "source": [
    "def staircase(n):\n",
    "    if n==0 :\n",
    "        return 1\n",
    "    \n",
    "    elif n<0:\n",
    "        return 0\n",
    "    \n",
    "    return staircase(n-1) + staircase(n-2) + staircase(n-3)\n",
    "\n",
    "n = int(input())\n",
    "print(staircase(n))"
   ]
  },
  {
   "cell_type": "code",
   "execution_count": null,
   "id": "4d586bcc",
   "metadata": {},
   "outputs": [],
   "source": []
  }
 ],
 "metadata": {
  "kernelspec": {
   "display_name": "Python 3 (ipykernel)",
   "language": "python",
   "name": "python3"
  },
  "language_info": {
   "codemirror_mode": {
    "name": "ipython",
    "version": 3
   },
   "file_extension": ".py",
   "mimetype": "text/x-python",
   "name": "python",
   "nbconvert_exporter": "python",
   "pygments_lexer": "ipython3",
   "version": "3.9.13"
  }
 },
 "nbformat": 4,
 "nbformat_minor": 5
}
