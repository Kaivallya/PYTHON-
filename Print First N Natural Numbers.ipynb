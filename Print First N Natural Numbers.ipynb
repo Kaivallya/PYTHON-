{
 "cells": [
  {
   "cell_type": "code",
   "execution_count": 1,
   "id": "af8d386e",
   "metadata": {},
   "outputs": [],
   "source": [
    "def fact(n):\n",
    "    if n==0:\n",
    "        return 1\n",
    "    return n*fact(n-1)"
   ]
  },
  {
   "cell_type": "code",
   "execution_count": 2,
   "id": "5f91ea5b",
   "metadata": {},
   "outputs": [],
   "source": [
    "def fact1(n):\n",
    "    if n==0:\n",
    "        return 1\n",
    "    smallOutput=fact(n-1)\n",
    "    return n*smalloutput"
   ]
  },
  {
   "cell_type": "code",
   "execution_count": 3,
   "id": "9d5ded3b",
   "metadata": {},
   "outputs": [],
   "source": [
    "def sum_n(n):\n",
    "    if n==0:\n",
    "        return 0\n",
    "    smallOutput=sum_n(n-1)\n",
    "    output=smallOutput+n\n",
    "    return output"
   ]
  },
  {
   "cell_type": "code",
   "execution_count": 4,
   "id": "32ad9e5e",
   "metadata": {},
   "outputs": [],
   "source": [
    "def print_1_to_n(n):\n",
    "    if n==0:\n",
    "        return\n",
    "    print_1_to_n(n-1)\n",
    "    print(n)\n",
    "    return"
   ]
  },
  {
   "cell_type": "code",
   "execution_count": 5,
   "id": "5fa5d53f",
   "metadata": {},
   "outputs": [
    {
     "name": "stdout",
     "output_type": "stream",
     "text": [
      "10\n",
      "3628800\n",
      "55\n",
      "1\n",
      "2\n",
      "3\n",
      "4\n",
      "5\n",
      "6\n",
      "7\n",
      "8\n",
      "9\n",
      "10\n"
     ]
    }
   ],
   "source": [
    "n=int(input())\n",
    "print(fact(n))\n",
    "print(sum_n(n))\n",
    "print_1_to_n(n)"
   ]
  },
  {
   "cell_type": "code",
   "execution_count": 6,
   "id": "91f3944c",
   "metadata": {},
   "outputs": [],
   "source": [
    "def print_n_to_1(n):\n",
    "    if n==0:\n",
    "        return \n",
    "    print(n)\n",
    "    print_n_to_1(n-1)"
   ]
  },
  {
   "cell_type": "code",
   "execution_count": 7,
   "id": "bf768a98",
   "metadata": {},
   "outputs": [
    {
     "name": "stdout",
     "output_type": "stream",
     "text": [
      "5\n",
      "120\n",
      "15\n",
      "5\n",
      "4\n",
      "3\n",
      "2\n",
      "1\n"
     ]
    }
   ],
   "source": [
    "n=int(input())\n",
    "print(fact(n))\n",
    "print(sum_n(n))\n",
    "print_n_to_1(n)"
   ]
  },
  {
   "cell_type": "code",
   "execution_count": 8,
   "id": "74f3f157",
   "metadata": {
    "scrolled": true
   },
   "outputs": [
    {
     "name": "stdout",
     "output_type": "stream",
     "text": [
      "5 3 1 "
     ]
    }
   ],
   "source": [
    "def printNumbers(n):\n",
    "    if(n<0):\n",
    "        return\n",
    "    print(n,end=\" \")\n",
    "    printNumbers(n-2)\n",
    "num = 5\n",
    "printNumbers(num)"
   ]
  },
  {
   "cell_type": "markdown",
   "id": "2abf16e5",
   "metadata": {},
   "source": [
    "## Fibonacci Number"
   ]
  },
  {
   "cell_type": "code",
   "execution_count": 9,
   "id": "05dd40b3",
   "metadata": {},
   "outputs": [],
   "source": [
    "def fib(n):\n",
    "    if n==1 or n==2:\n",
    "        return 1\n",
    "    fib_n_1=fib(n-1)\n",
    "    fib_n_2=fib(n-2)  \n",
    "    output=fib_n_1+fib_n_2\n",
    "    return output"
   ]
  },
  {
   "cell_type": "code",
   "execution_count": 10,
   "id": "be64b6a1",
   "metadata": {},
   "outputs": [
    {
     "name": "stdout",
     "output_type": "stream",
     "text": [
      "11\n",
      "89\n"
     ]
    }
   ],
   "source": [
    "n=int(input())\n",
    "fib(n)\n",
    "print(fib(n))"
   ]
  },
  {
   "cell_type": "code",
   "execution_count": 11,
   "id": "aa7f5cb4",
   "metadata": {},
   "outputs": [
    {
     "name": "stdout",
     "output_type": "stream",
     "text": [
      "16\n"
     ]
    }
   ],
   "source": [
    "def fun(n):\n",
    "    if(n == 4):\n",
    "        return n\n",
    "    else:\n",
    "        return 2*fun(n+1)\n",
    "\n",
    "\n",
    "print(fun(2))"
   ]
  },
  {
   "cell_type": "code",
   "execution_count": 12,
   "id": "7aa6fbf2",
   "metadata": {},
   "outputs": [],
   "source": [
    "def fact(n):\n",
    "    if n==0:\n",
    "        return 1\n",
    "    return n*fact(n-1)"
   ]
  },
  {
   "cell_type": "code",
   "execution_count": 13,
   "id": "bf48d82c",
   "metadata": {},
   "outputs": [],
   "source": [
    "def fact1(n):\n",
    "    if n==0:\n",
    "        return 1\n",
    "    smalloutput=fact(n-1)\n",
    "    return n*smalloutput"
   ]
  },
  {
   "cell_type": "code",
   "execution_count": 14,
   "id": "01cdc4ea",
   "metadata": {},
   "outputs": [],
   "source": [
    "import sys\n",
    "sys.setrecursionlimit(3000)"
   ]
  },
  {
   "cell_type": "code",
   "execution_count": 15,
   "id": "ac1437a3",
   "metadata": {},
   "outputs": [
    {
     "name": "stdout",
     "output_type": "stream",
     "text": [
      "100\n"
     ]
    },
    {
     "data": {
      "text/plain": [
       "93326215443944152681699238856266700490715968264381621468592963895217599993229915608941463976156518286253697920827223758251185210916864000000000000000000000000"
      ]
     },
     "execution_count": 15,
     "metadata": {},
     "output_type": "execute_result"
    }
   ],
   "source": [
    "n=int(input())\n",
    "fact(n)"
   ]
  },
  {
   "cell_type": "markdown",
   "id": "abf1b877",
   "metadata": {},
   "source": [
    "## Check If List Is Sorted Or Not? -1"
   ]
  },
  {
   "cell_type": "code",
   "execution_count": 16,
   "id": "02b1899a",
   "metadata": {},
   "outputs": [],
   "source": [
    "def isSorted(a):\n",
    "    l=len(a)\n",
    "    if l==0 or l==1:\n",
    "        return True\n",
    "    if a[0]>a[1]:\n",
    "        return False\n",
    "    smallerList=a[1:]\n",
    "    isSmallerListSorted=isSorted(smallerList)\n",
    "    if isSmallerListSorted:\n",
    "        return True\n",
    "    else:\n",
    "        return False"
   ]
  },
  {
   "cell_type": "code",
   "execution_count": 17,
   "id": "39ce5336",
   "metadata": {},
   "outputs": [
    {
     "data": {
      "text/plain": [
       "True"
      ]
     },
     "execution_count": 17,
     "metadata": {},
     "output_type": "execute_result"
    }
   ],
   "source": [
    "a=[1,2,3,4,5,6,7,8,9]\n",
    "isSorted(a)"
   ]
  },
  {
   "cell_type": "code",
   "execution_count": 18,
   "id": "0acc05a9",
   "metadata": {},
   "outputs": [
    {
     "name": "stdout",
     "output_type": "stream",
     "text": [
      "3\n",
      "9 8 10\n",
      "8\n",
      "True\n"
     ]
    }
   ],
   "source": [
    "def linearSearchRecursive(arr,n,x):\n",
    "    if n<0:\n",
    "        return False\n",
    "    if arr[n]==x:\n",
    "        return True\n",
    "    return linearSearchRecursive(arr,n-1,x)\n",
    "\n",
    "n=int(input())\n",
    "arr=list(int(i) for i in input().strip().split(' '))\n",
    "x=int(input())\n",
    "print(linearSearchRecursive(arr,n-1,x))"
   ]
  },
  {
   "cell_type": "code",
   "execution_count": 19,
   "id": "052416c6",
   "metadata": {},
   "outputs": [
    {
     "name": "stdout",
     "output_type": "stream",
     "text": [
      "3\n",
      "9 8 10\n",
      "2\n",
      "False\n"
     ]
    }
   ],
   "source": [
    "def linearSearchRecursive(arr,n,x):\n",
    "    if n<0:\n",
    "        return False\n",
    "    if arr[n]==x:\n",
    "        return True\n",
    "    return linearSearchRecursive(arr,n-1,x)\n",
    "\n",
    "n=int(input())\n",
    "arr=list(int(i) for i in input().strip().split(' '))\n",
    "x=int(input())\n",
    "print(linearSearchRecursive(arr,n-1,x))"
   ]
  },
  {
   "cell_type": "markdown",
   "id": "c9f3ec83",
   "metadata": {},
   "source": [
    "## Check If List Is Sorted Or Not? -2"
   ]
  },
  {
   "cell_type": "code",
   "execution_count": 1,
   "id": "684b8ccb",
   "metadata": {},
   "outputs": [],
   "source": [
    "def isSorted(a):\n",
    "    l=len(a)\n",
    "    if l==0 or l==1:\n",
    "        return True\n",
    "    if a[0]>a[1]:\n",
    "        return False\n",
    "    smallerList=a[1:]\n",
    "    isSmallerListSorted=isSorted(smallerList)\n",
    "    if isSmallerListSorted:\n",
    "        return True\n",
    "    else:\n",
    "        return False"
   ]
  },
  {
   "cell_type": "code",
   "execution_count": 3,
   "id": "057d000d",
   "metadata": {},
   "outputs": [],
   "source": [
    "def isSortedBetter(a,si):\n",
    "    l=len(a)\n",
    "    if si==l-1 or si==l:\n",
    "        return True\n",
    "    if a[si]>a[si+1]:\n",
    "        return False\n",
    "    isSmallerPartSorted=isSortedBetter(a,si+1)\n",
    "    return isSmallerPartSorted"
   ]
  },
  {
   "cell_type": "code",
   "execution_count": 4,
   "id": "b708a077",
   "metadata": {},
   "outputs": [
    {
     "data": {
      "text/plain": [
       "True"
      ]
     },
     "execution_count": 4,
     "metadata": {},
     "output_type": "execute_result"
    }
   ],
   "source": [
    "a=[1,2,3,4,5,6,7,8,9]\n",
    "isSortedBetter(a,0)"
   ]
  },
  {
   "cell_type": "code",
   "execution_count": 6,
   "id": "f30b55ad",
   "metadata": {},
   "outputs": [
    {
     "data": {
      "text/plain": [
       "True"
      ]
     },
     "execution_count": 6,
     "metadata": {},
     "output_type": "execute_result"
    }
   ],
   "source": [
    "a=[1,2,3,4,5,6,7,8,9]\n",
    "isSorted(a)"
   ]
  },
  {
   "cell_type": "markdown",
   "id": "5884c30e",
   "metadata": {},
   "source": [
    "## First Index Of Number - Code"
   ]
  },
  {
   "cell_type": "code",
   "execution_count": 7,
   "id": "1ff39245",
   "metadata": {},
   "outputs": [],
   "source": [
    "def firstIndex(a,x):\n",
    "    l=len(a)\n",
    "    if l==0:\n",
    "        return -1\n",
    "    if a[0]==x:\n",
    "        return 0\n",
    "    smallerList=a[1:]\n",
    "    smallerListOutput=firstIndex(smallerList,x)\n",
    "    \n",
    "    if smallerListOutput==-1:\n",
    "        return -1\n",
    "    else:\n",
    "        return smallerListOutput+1"
   ]
  },
  {
   "cell_type": "code",
   "execution_count": 8,
   "id": "ebb8dc62",
   "metadata": {},
   "outputs": [
    {
     "name": "stdout",
     "output_type": "stream",
     "text": [
      "5\n"
     ]
    }
   ],
   "source": [
    "a=[1,2,4,5,6,7,8,9,7]\n",
    "print(firstIndex(a,7))"
   ]
  },
  {
   "cell_type": "code",
   "execution_count": 9,
   "id": "9550eec8",
   "metadata": {},
   "outputs": [],
   "source": [
    "def firstIndexB(a,x,si):\n",
    "    l=len(a)\n",
    "    if si==l:\n",
    "        return -1\n",
    "    if a[si]==x:\n",
    "        return si\n",
    "    smallerListOutput=firstIndexB(a,x,si+1)\n",
    "    return smallerListOutput"
   ]
  },
  {
   "cell_type": "code",
   "execution_count": 10,
   "id": "0b8140c5",
   "metadata": {},
   "outputs": [
    {
     "name": "stdout",
     "output_type": "stream",
     "text": [
      "5\n",
      "5\n"
     ]
    }
   ],
   "source": [
    "a=[1,2,4,5,6,7,8,9,7]\n",
    "print(firstIndex(a,7))\n",
    "print(firstIndexB(a,7,0))"
   ]
  },
  {
   "cell_type": "code",
   "execution_count": 12,
   "id": "24a6cd40",
   "metadata": {},
   "outputs": [
    {
     "name": "stdout",
     "output_type": "stream",
     "text": [
      "4\n",
      "9 8 10 8\n",
      "8\n",
      "-1\n"
     ]
    }
   ],
   "source": [
    "def lastIndex(arr, x):\n",
    "    if len(arr)==0:\n",
    "        return -1\n",
    "    if arr[0]==x:\n",
    "        return lastIndex(arr[1:],x)\n",
    "    smallOutput=lastIndex(arr[1:],x)\n",
    "    if smallOutput==-1:\n",
    "        return -1\n",
    "    else:\n",
    "        return smallOutput+1\n",
    "\n",
    "n = int(input())\n",
    "arr = list(int(i) for i in input().strip().split(' '))\n",
    "x = int(input())\n",
    "print(lastIndex(arr, x))"
   ]
  },
  {
   "cell_type": "code",
   "execution_count": 6,
   "id": "cf60caf1",
   "metadata": {},
   "outputs": [
    {
     "name": "stdout",
     "output_type": "stream",
     "text": [
      "4\n",
      "9 8 10 8\n",
      "8\n",
      "0\n"
     ]
    }
   ],
   "source": [
    "def lastIndex(arr,x):\n",
    "    n = len(arr)\n",
    "    if n == 0:\n",
    "        return -1\n",
    "    if arr[0] == x:\n",
    "        smallOutput = lastIndex(arr[1:3], x)\n",
    "        if smallOutput == -1:\n",
    "            return 0\n",
    "        else:\n",
    "            return smallOutput + 1\n",
    "    else:\n",
    "        smallOutput = lastIndex(arr[1:2], x)\n",
    "        return smallOutput\n",
    "\n",
    "n=int(input())\n",
    "arr=list(int(i) for i in input().strip().split(' '))\n",
    "x=int(input())\n",
    "print(lastIndex(arr, x))"
   ]
  },
  {
   "cell_type": "code",
   "execution_count": 10,
   "id": "9ec442ac",
   "metadata": {},
   "outputs": [],
   "source": [
    "def lastIndex(arr, x):\n",
    "    if len(arr) == 0:\n",
    "        return -1\n",
    "    if arr[0] == x:\n",
    "        last_index = 0\n",
    "    else:\n",
    "        last_index = lastIndex(arr[1:], x)\n",
    "        if last_index != -1:\n",
    "            last_index += 1\n",
    "    return last_index\n",
    "\n",
    "def main():\n",
    "    n = int(input().strip())\n",
    "    arr = list(map(int, input().strip().split()))\n",
    "    x = int(input().strip())\n",
    "    print(lastIndex(arr, x))\n",
    "\n",
    "# if _name_ == 'main':\n",
    "#     main()"
   ]
  },
  {
   "cell_type": "code",
   "execution_count": 12,
   "id": "a121831a",
   "metadata": {},
   "outputs": [],
   "source": [
    "def lastIndex(arr, x, index):\n",
    "    if index == -1:\n",
    "        return -1\n",
    "    if arr[index] == x:\n",
    "        return index\n",
    "    return lastIndex(arr, x, index - 1)\n",
    "\n",
    "def main():\n",
    "    n = int(input().strip())\n",
    "    arr = list(map(int, input().strip().split()))\n",
    "    x = int(input().strip())\n",
    "    print(lastIndex(arr, x, n - 1))\n",
    "\n",
    "# if _name_ == '_main_':\n",
    "#     main()"
   ]
  },
  {
   "cell_type": "markdown",
   "id": "f798d0eb",
   "metadata": {},
   "source": [
    "## Last Index Of Number Code"
   ]
  },
  {
   "cell_type": "code",
   "execution_count": 20,
   "id": "c944a51a",
   "metadata": {},
   "outputs": [],
   "source": [
    "def lastIndex(a,x):\n",
    "    l=len(a)\n",
    "    if l==0:\n",
    "        return -1\n",
    "    smallerList=a[1:]\n",
    "    smallerListOutput=lastIndex(smallerList,x)\n",
    "    if smallerListOutput!=-1:\n",
    "        return smallerListOutput+1\n",
    "    else:\n",
    "        if a[0]==x:\n",
    "            return 0\n",
    "        else:\n",
    "            return -1"
   ]
  },
  {
   "cell_type": "code",
   "execution_count": 22,
   "id": "1567b01e",
   "metadata": {},
   "outputs": [
    {
     "name": "stdout",
     "output_type": "stream",
     "text": [
      "3\n"
     ]
    }
   ],
   "source": [
    "a=[1,4,5,4,8]\n",
    "x=4\n",
    "print(lastIndex(a,x))"
   ]
  },
  {
   "cell_type": "code",
   "execution_count": 18,
   "id": "ca96dad8",
   "metadata": {},
   "outputs": [],
   "source": [
    "def lastIndexB(a,x,si):\n",
    "    l=len(a)\n",
    "    if si==l:\n",
    "        return -1\n",
    "    smallerListOutput=lastIndexB(a,x,si+1)\n",
    "    if smallerListOutput!=-1:\n",
    "        return smallerListOutput\n",
    "    else:\n",
    "        if a[si]==x:\n",
    "            return si\n",
    "        else:\n",
    "            return -1"
   ]
  },
  {
   "cell_type": "code",
   "execution_count": 19,
   "id": "aa80bf7e",
   "metadata": {},
   "outputs": [
    {
     "name": "stdout",
     "output_type": "stream",
     "text": [
      "3\n",
      "3\n"
     ]
    }
   ],
   "source": [
    "a=[1,4,5,4,8]\n",
    "x=4\n",
    "print(lastIndex(a,x))\n",
    "print(lastIndexB(a,x,0))"
   ]
  },
  {
   "cell_type": "code",
   "execution_count": null,
   "id": "f60f6465",
   "metadata": {},
   "outputs": [],
   "source": []
  }
 ],
 "metadata": {
  "kernelspec": {
   "display_name": "Python 3 (ipykernel)",
   "language": "python",
   "name": "python3"
  },
  "language_info": {
   "codemirror_mode": {
    "name": "ipython",
    "version": 3
   },
   "file_extension": ".py",
   "mimetype": "text/x-python",
   "name": "python",
   "nbconvert_exporter": "python",
   "pygments_lexer": "ipython3",
   "version": "3.9.13"
  }
 },
 "nbformat": 4,
 "nbformat_minor": 5
}
