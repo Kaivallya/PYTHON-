{
 "cells": [
  {
   "cell_type": "code",
   "execution_count": 1,
   "metadata": {},
   "outputs": [
    {
     "name": "stdout",
     "output_type": "stream",
     "text": [
      "7\n",
      "2 3 5 7 8 3 12\n",
      "2 3 3 5 7 8 12 "
     ]
    }
   ],
   "source": [
    "def insertionSort(arr):\n",
    "    for i in range(1, len(arr)): \n",
    "        key = arr[i] \n",
    "        j = i-1\n",
    "        while j >= 0 and key < arr[j] : \n",
    "                arr[j + 1] = arr[j] \n",
    "                j -= 1\n",
    "        arr[j + 1] = key  \n",
    "    \n",
    "n = int(input())\n",
    "ar = [int(x) for x in input().split()[:n]]\n",
    "\n",
    "insertionSort(ar)\n",
    "\n",
    "for i in ar:\n",
    "    print(i, end =' ')"
   ]
  }
 ],
 "metadata": {
  "kernelspec": {
   "display_name": "Python 3",
   "language": "python",
   "name": "python3"
  },
  "language_info": {
   "codemirror_mode": {
    "name": "ipython",
    "version": 3
   },
   "file_extension": ".py",
   "mimetype": "text/x-python",
   "name": "python",
   "nbconvert_exporter": "python",
   "pygments_lexer": "ipython3",
   "version": "3.7.3"
  }
 },
 "nbformat": 4,
 "nbformat_minor": 2
}
